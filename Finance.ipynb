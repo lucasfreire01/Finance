{
 "cells": [
  {
   "cell_type": "code",
   "execution_count": 1,
   "metadata": {},
   "outputs": [],
   "source": [
    "# yfinance(Yahoo finance) is a plataform of stock exchange that we go to extract data to make our project"
   ]
  },
  {
   "cell_type": "code",
   "execution_count": 2,
   "metadata": {},
   "outputs": [
    {
     "name": "stdout",
     "output_type": "stream",
     "text": [
      "Requirement already satisfied: yfinance in c:\\users\\silvio\\appdata\\local\\programs\\python\\python37\\lib\\site-packages (0.1.74)\n",
      "Requirement already satisfied: multitasking>=0.0.7 in c:\\users\\silvio\\appdata\\local\\programs\\python\\python37\\lib\\site-packages (from yfinance) (0.0.11)\n",
      "Requirement already satisfied: numpy>=1.15 in c:\\users\\silvio\\appdata\\local\\programs\\python\\python37\\lib\\site-packages (from yfinance) (1.21.6)\n",
      "Requirement already satisfied: lxml>=4.5.1 in c:\\users\\silvio\\appdata\\local\\programs\\python\\python37\\lib\\site-packages (from yfinance) (4.9.1)\n",
      "Requirement already satisfied: pandas>=0.24.0 in c:\\users\\silvio\\appdata\\local\\programs\\python\\python37\\lib\\site-packages (from yfinance) (1.3.5)\n",
      "Requirement already satisfied: requests>=2.26 in c:\\users\\silvio\\appdata\\local\\programs\\python\\python37\\lib\\site-packages (from yfinance) (2.28.1)\n",
      "Requirement already satisfied: pytz>=2017.3 in c:\\users\\silvio\\appdata\\local\\programs\\python\\python37\\lib\\site-packages (from pandas>=0.24.0->yfinance) (2022.2.1)\n",
      "Requirement already satisfied: python-dateutil>=2.7.3 in c:\\users\\silvio\\appdata\\local\\programs\\python\\python37\\lib\\site-packages (from pandas>=0.24.0->yfinance) (2.8.2)\n",
      "Requirement already satisfied: idna<4,>=2.5 in c:\\users\\silvio\\appdata\\local\\programs\\python\\python37\\lib\\site-packages (from requests>=2.26->yfinance) (3.4)\n",
      "Requirement already satisfied: charset-normalizer<3,>=2 in c:\\users\\silvio\\appdata\\local\\programs\\python\\python37\\lib\\site-packages (from requests>=2.26->yfinance) (2.1.1)\n",
      "Requirement already satisfied: urllib3<1.27,>=1.21.1 in c:\\users\\silvio\\appdata\\local\\programs\\python\\python37\\lib\\site-packages (from requests>=2.26->yfinance) (1.26.12)\n",
      "Requirement already satisfied: certifi>=2017.4.17 in c:\\users\\silvio\\appdata\\local\\programs\\python\\python37\\lib\\site-packages (from requests>=2.26->yfinance) (2022.9.24)\n",
      "Requirement already satisfied: six>=1.5 in c:\\users\\silvio\\appdata\\local\\programs\\python\\python37\\lib\\site-packages (from python-dateutil>=2.7.3->pandas>=0.24.0->yfinance) (1.16.0)\n",
      "Note: you may need to restart the kernel to use updated packages.\n"
     ]
    },
    {
     "name": "stderr",
     "output_type": "stream",
     "text": [
      "WARNING: You are using pip version 19.2.3, however version 22.2.2 is available.\n",
      "You should consider upgrading via the 'python -m pip install --upgrade pip' command.\n"
     ]
    }
   ],
   "source": [
    "pip install yfinance"
   ]
  },
  {
   "cell_type": "code",
   "execution_count": 3,
   "metadata": {},
   "outputs": [
    {
     "name": "stdout",
     "output_type": "stream",
     "text": [
      "Collecting notebook\n",
      "  Using cached https://files.pythonhosted.org/packages/b5/62/229659241aee54be38990e06e684bcfe5c9c8727185f5e39335be8821583/notebook-6.4.12-py3-none-any.whl\n",
      "Collecting jinja2 (from notebook)\n",
      "  Using cached https://files.pythonhosted.org/packages/bc/c3/f068337a370801f372f2f8f6bad74a5c140f6fda3d9de154052708dd3c65/Jinja2-3.1.2-py3-none-any.whl\n",
      "Collecting argon2-cffi (from notebook)\n",
      "  Using cached https://files.pythonhosted.org/packages/a8/07/946d5a9431bae05a776a59746ec385fbb79b526738d25e4202d3e0bbf7f4/argon2_cffi-21.3.0-py3-none-any.whl\n",
      "Requirement already satisfied: nest-asyncio>=1.5 in c:\\users\\silvio\\appdata\\local\\programs\\python\\python37\\lib\\site-packages (from notebook) (1.5.5)\n",
      "Requirement already satisfied: jupyter-core>=4.6.1 in c:\\users\\silvio\\appdata\\local\\programs\\python\\python37\\lib\\site-packages (from notebook) (4.11.1)\n",
      "Collecting nbconvert>=5 (from notebook)\n",
      "  Using cached https://files.pythonhosted.org/packages/b9/66/67e0a0f9e9cb0172d0d92686166418f69ec702ff7db2acca8c8caf325d0d/nbconvert-7.0.0-py3-none-any.whl\n",
      "Collecting Send2Trash>=1.8.0 (from notebook)\n",
      "  Using cached https://files.pythonhosted.org/packages/47/26/3435896d757335ea53dce5abf8d658ca80757a7a06258451b358f10232be/Send2Trash-1.8.0-py3-none-any.whl\n",
      "Requirement already satisfied: jupyter-client>=5.3.4 in c:\\users\\silvio\\appdata\\local\\programs\\python\\python37\\lib\\site-packages (from notebook) (7.3.5)\n",
      "Collecting ipython-genutils (from notebook)\n",
      "  Using cached https://files.pythonhosted.org/packages/fa/bc/9bd3b5c2b4774d5f33b2d544f1460be9df7df2fe42f352135381c347c69a/ipython_genutils-0.2.0-py2.py3-none-any.whl\n",
      "Collecting terminado>=0.8.3 (from notebook)\n",
      "  Using cached https://files.pythonhosted.org/packages/85/be/6b89563289bc8df86f4089efcc4e28d39feaaa4c0863ddcb32dee18d0957/terminado-0.15.0-py3-none-any.whl\n",
      "Requirement already satisfied: pyzmq>=17 in c:\\users\\silvio\\appdata\\local\\programs\\python\\python37\\lib\\site-packages (from notebook) (24.0.1)\n",
      "Collecting prometheus-client (from notebook)\n",
      "  Using cached https://files.pythonhosted.org/packages/19/e5/7d4b4b3b0d8d2fdc55395cdb4271c6dbfde3c3ff7d6a6dbe63d19c4e2288/prometheus_client-0.14.1-py3-none-any.whl\n",
      "Requirement already satisfied: traitlets>=4.2.1 in c:\\users\\silvio\\appdata\\local\\programs\\python\\python37\\lib\\site-packages (from notebook) (5.4.0)\n",
      "Requirement already satisfied: nbformat in c:\\users\\silvio\\appdata\\local\\programs\\python\\python37\\lib\\site-packages (from notebook) (5.6.0)\n",
      "Requirement already satisfied: ipykernel in c:\\users\\silvio\\appdata\\local\\programs\\python\\python37\\lib\\site-packages (from notebook) (6.15.3)\n",
      "Requirement already satisfied: tornado>=6.1 in c:\\users\\silvio\\appdata\\local\\programs\\python\\python37\\lib\\site-packages (from notebook) (6.2)\n",
      "Collecting MarkupSafe>=2.0 (from jinja2->notebook)\n",
      "  Using cached https://files.pythonhosted.org/packages/3f/38/f422a81b41bdac48f1d19c45f6e203c04bc45d2c35505873fdecdddee1ec/MarkupSafe-2.1.1-cp37-cp37m-win_amd64.whl\n",
      "Collecting argon2-cffi-bindings (from argon2-cffi->notebook)\n",
      "  Using cached https://files.pythonhosted.org/packages/b9/e9/184b8ccce6683b0aa2fbb7ba5683ea4b9c5763f1356347f1312c32e3c66e/argon2-cffi-bindings-21.2.0.tar.gz\n",
      "  Installing build dependencies: started\n",
      "  Installing build dependencies: finished with status 'done'\n",
      "  Getting requirements to build wheel: started\n",
      "  Getting requirements to build wheel: finished with status 'done'\n",
      "    Preparing wheel metadata: started\n",
      "    Preparing wheel metadata: finished with status 'done'\n",
      "Requirement already satisfied: typing-extensions; python_version < \"3.8\" in c:\\users\\silvio\\appdata\\local\\programs\\python\\python37\\lib\\site-packages (from argon2-cffi->notebook) (4.2.0)\n",
      "Requirement already satisfied: pywin32>=1.0; sys_platform == \"win32\" and platform_python_implementation != \"PyPy\" in c:\\users\\silvio\\appdata\\local\\programs\\python\\python37\\lib\\site-packages (from jupyter-core>=4.6.1->notebook) (304)\n",
      "Collecting mistune<3,>=2.0.3 (from nbconvert>=5->notebook)\n",
      "  Using cached https://files.pythonhosted.org/packages/3a/c7/b0a4413a4d9b7a4fda0d710fd90dba62375f0d0c4544e848dc7656757c0c/mistune-2.0.4-py2.py3-none-any.whl\n",
      "Requirement already satisfied: pygments>=2.4.1 in c:\\users\\silvio\\appdata\\local\\programs\\python\\python37\\lib\\site-packages (from nbconvert>=5->notebook) (2.13.0)\n",
      "Requirement already satisfied: packaging in c:\\users\\silvio\\appdata\\local\\programs\\python\\python37\\lib\\site-packages (from nbconvert>=5->notebook) (21.3)\n",
      "Collecting defusedxml (from nbconvert>=5->notebook)\n",
      "  Using cached https://files.pythonhosted.org/packages/07/6c/aa3f2f849e01cb6a001cd8554a88d4c77c5c1a31c95bdf1cf9301e6d9ef4/defusedxml-0.7.1-py2.py3-none-any.whl\n",
      "Requirement already satisfied: lxml in c:\\users\\silvio\\appdata\\local\\programs\\python\\python37\\lib\\site-packages (from nbconvert>=5->notebook) (4.9.1)\n",
      "Collecting jupyterlab-pygments (from nbconvert>=5->notebook)\n",
      "  Using cached https://files.pythonhosted.org/packages/c0/7e/c3d1df3ae9b41686e664051daedbd70eea2e1d2bd9d9c33e7e1455bc9f96/jupyterlab_pygments-0.2.2-py2.py3-none-any.whl\n",
      "Collecting pandocfilters>=1.4.1 (from nbconvert>=5->notebook)\n",
      "  Using cached https://files.pythonhosted.org/packages/5e/a8/878258cffd53202a6cc1903c226cf09e58ae3df6b09f8ddfa98033286637/pandocfilters-1.5.0-py2.py3-none-any.whl\n",
      "Collecting nbclient>=0.5.0 (from nbconvert>=5->notebook)\n",
      "  Using cached https://files.pythonhosted.org/packages/e6/1d/de31c4139603b3f43147dca571de7d1928bd23d5c674865342bd457ec419/nbclient-0.6.8-py3-none-any.whl\n",
      "Collecting beautifulsoup4 (from nbconvert>=5->notebook)\n",
      "  Using cached https://files.pythonhosted.org/packages/9c/d8/909c4089dbe4ade9f9705f143c9f13f065049a9d5e7d34c828aefdd0a97c/beautifulsoup4-4.11.1-py3-none-any.whl\n",
      "Requirement already satisfied: importlib-metadata>=3.6; python_version < \"3.10\" in c:\\users\\silvio\\appdata\\local\\programs\\python\\python37\\lib\\site-packages (from nbconvert>=5->notebook) (4.11.3)\n",
      "Collecting tinycss2 (from nbconvert>=5->notebook)\n",
      "  Using cached https://files.pythonhosted.org/packages/53/7b/5dba39bf0572f1f28e2844f08f74a73482a381de1d1feac3bbc6b808051e/tinycss2-1.1.1-py3-none-any.whl\n",
      "Collecting bleach (from nbconvert>=5->notebook)\n",
      "  Using cached https://files.pythonhosted.org/packages/d4/87/508104336a2bc0c4cfdbdceedc0f44dc72da3abc0460c57e323ddd1b3257/bleach-5.0.1-py3-none-any.whl\n",
      "Requirement already satisfied: entrypoints in c:\\users\\silvio\\appdata\\local\\programs\\python\\python37\\lib\\site-packages (from jupyter-client>=5.3.4->notebook) (0.4)\n",
      "Requirement already satisfied: python-dateutil>=2.8.2 in c:\\users\\silvio\\appdata\\local\\programs\\python\\python37\\lib\\site-packages (from jupyter-client>=5.3.4->notebook) (2.8.2)\n",
      "Collecting pywinpty>=1.1.0; os_name == \"nt\" (from terminado>=0.8.3->notebook)\n",
      "  Using cached https://files.pythonhosted.org/packages/0f/e8/5dd278b7d9dac60d1989d14f381e0c4e2035ce97a74c01fb11adf3718e9e/pywinpty-2.0.8-cp37-none-win_amd64.whl\n",
      "Requirement already satisfied: fastjsonschema in c:\\users\\silvio\\appdata\\local\\programs\\python\\python37\\lib\\site-packages (from nbformat->notebook) (2.16.2)\n",
      "Requirement already satisfied: jsonschema>=2.6 in c:\\users\\silvio\\appdata\\local\\programs\\python\\python37\\lib\\site-packages (from nbformat->notebook) (4.16.0)\n",
      "Requirement already satisfied: psutil in c:\\users\\silvio\\appdata\\local\\programs\\python\\python37\\lib\\site-packages (from ipykernel->notebook) (5.9.2)\n",
      "Requirement already satisfied: ipython>=7.23.1 in c:\\users\\silvio\\appdata\\local\\programs\\python\\python37\\lib\\site-packages (from ipykernel->notebook) (7.34.0)\n",
      "Requirement already satisfied: matplotlib-inline>=0.1 in c:\\users\\silvio\\appdata\\local\\programs\\python\\python37\\lib\\site-packages (from ipykernel->notebook) (0.1.6)\n",
      "Requirement already satisfied: debugpy>=1.0 in c:\\users\\silvio\\appdata\\local\\programs\\python\\python37\\lib\\site-packages (from ipykernel->notebook) (1.6.3)\n",
      "Collecting cffi>=1.0.1 (from argon2-cffi-bindings->argon2-cffi->notebook)\n",
      "  Using cached https://files.pythonhosted.org/packages/32/2a/63cb8c07d151de92ff9d897b2eb27ba6a0e78dda8e4c5f70d7b8c16cd6a2/cffi-1.15.1-cp37-cp37m-win_amd64.whl\n",
      "Requirement already satisfied: pyparsing!=3.0.5,>=2.0.2 in c:\\users\\silvio\\appdata\\local\\programs\\python\\python37\\lib\\site-packages (from packaging->nbconvert>=5->notebook) (3.0.9)\n",
      "Collecting soupsieve>1.2 (from beautifulsoup4->nbconvert>=5->notebook)\n",
      "  Using cached https://files.pythonhosted.org/packages/16/e3/4ad79882b92617e3a4a0df1960d6bce08edfb637737ac5c3f3ba29022e25/soupsieve-2.3.2.post1-py3-none-any.whl\n",
      "Requirement already satisfied: zipp>=0.5 in c:\\users\\silvio\\appdata\\local\\programs\\python\\python37\\lib\\site-packages (from importlib-metadata>=3.6; python_version < \"3.10\"->nbconvert>=5->notebook) (3.8.0)\n",
      "Collecting webencodings>=0.4 (from tinycss2->nbconvert>=5->notebook)\n",
      "  Using cached https://files.pythonhosted.org/packages/f4/24/2a3e3df732393fed8b3ebf2ec078f05546de641fe1b667ee316ec1dcf3b7/webencodings-0.5.1-py2.py3-none-any.whl\n",
      "Requirement already satisfied: six>=1.9.0 in c:\\users\\silvio\\appdata\\local\\programs\\python\\python37\\lib\\site-packages (from bleach->nbconvert>=5->notebook) (1.16.0)\n",
      "Requirement already satisfied: importlib-resources>=1.4.0; python_version < \"3.9\" in c:\\users\\silvio\\appdata\\local\\programs\\python\\python37\\lib\\site-packages (from jsonschema>=2.6->nbformat->notebook) (5.9.0)\n",
      "Requirement already satisfied: pkgutil-resolve-name>=1.3.10; python_version < \"3.9\" in c:\\users\\silvio\\appdata\\local\\programs\\python\\python37\\lib\\site-packages (from jsonschema>=2.6->nbformat->notebook) (1.3.10)\n",
      "Requirement already satisfied: pyrsistent!=0.17.0,!=0.17.1,!=0.17.2,>=0.14.0 in c:\\users\\silvio\\appdata\\local\\programs\\python\\python37\\lib\\site-packages (from jsonschema>=2.6->nbformat->notebook) (0.18.1)\n",
      "Requirement already satisfied: attrs>=17.4.0 in c:\\users\\silvio\\appdata\\local\\programs\\python\\python37\\lib\\site-packages (from jsonschema>=2.6->nbformat->notebook) (22.1.0)\n",
      "Requirement already satisfied: prompt-toolkit!=3.0.0,!=3.0.1,<3.1.0,>=2.0.0 in c:\\users\\silvio\\appdata\\local\\programs\\python\\python37\\lib\\site-packages (from ipython>=7.23.1->ipykernel->notebook) (3.0.31)\n",
      "Requirement already satisfied: decorator in c:\\users\\silvio\\appdata\\local\\programs\\python\\python37\\lib\\site-packages (from ipython>=7.23.1->ipykernel->notebook) (5.1.1)\n",
      "Requirement already satisfied: setuptools>=18.5 in c:\\users\\silvio\\appdata\\local\\programs\\python\\python37\\lib\\site-packages (from ipython>=7.23.1->ipykernel->notebook) (41.2.0)\n",
      "Requirement already satisfied: backcall in c:\\users\\silvio\\appdata\\local\\programs\\python\\python37\\lib\\site-packages (from ipython>=7.23.1->ipykernel->notebook) (0.2.0)\n",
      "Requirement already satisfied: colorama; sys_platform == \"win32\" in c:\\users\\silvio\\appdata\\local\\programs\\python\\python37\\lib\\site-packages (from ipython>=7.23.1->ipykernel->notebook) (0.4.4)\n",
      "Requirement already satisfied: jedi>=0.16 in c:\\users\\silvio\\appdata\\local\\programs\\python\\python37\\lib\\site-packages (from ipython>=7.23.1->ipykernel->notebook) (0.18.1)\n",
      "Requirement already satisfied: pickleshare in c:\\users\\silvio\\appdata\\local\\programs\\python\\python37\\lib\\site-packages (from ipython>=7.23.1->ipykernel->notebook) (0.7.5)\n",
      "Collecting pycparser (from cffi>=1.0.1->argon2-cffi-bindings->argon2-cffi->notebook)\n",
      "  Using cached https://files.pythonhosted.org/packages/62/d5/5f610ebe421e85889f2e55e33b7f9a6795bd982198517d912eb1c76e1a53/pycparser-2.21-py2.py3-none-any.whl\n",
      "Requirement already satisfied: wcwidth in c:\\users\\silvio\\appdata\\local\\programs\\python\\python37\\lib\\site-packages (from prompt-toolkit!=3.0.0,!=3.0.1,<3.1.0,>=2.0.0->ipython>=7.23.1->ipykernel->notebook) (0.2.5)\n",
      "Requirement already satisfied: parso<0.9.0,>=0.8.0 in c:\\users\\silvio\\appdata\\local\\programs\\python\\python37\\lib\\site-packages (from jedi>=0.16->ipython>=7.23.1->ipykernel->notebook) (0.8.3)\n",
      "Building wheels for collected packages: argon2-cffi-bindings\n",
      "  Building wheel for argon2-cffi-bindings (PEP 517): started\n",
      "  Building wheel for argon2-cffi-bindings (PEP 517): finished with status 'error'\n",
      "  Running setup.py clean for argon2-cffi-bindings\n",
      "Failed to build argon2-cffi-bindings\n",
      "Note: you may need to restart the kernel to use updated packages.\n"
     ]
    },
    {
     "name": "stderr",
     "output_type": "stream",
     "text": [
      "  ERROR: Command errored out with exit status 1:\n",
      "   command: 'c:\\Users\\Silvio\\AppData\\Local\\Programs\\Python\\Python37\\python.exe' 'c:\\Users\\Silvio\\AppData\\Local\\Programs\\Python\\Python37\\lib\\site-packages\\pip\\_vendor\\pep517\\_in_process.py' build_wheel 'C:\\Users\\Silvio\\AppData\\Local\\Temp\\tmp681hn2wi'\n",
      "       cwd: C:\\Users\\Silvio\\AppData\\Local\\Temp\\pip-install-e0bqmjev\\argon2-cffi-bindings\n",
      "  Complete output (14 lines):\n",
      "  running bdist_wheel\n",
      "  running build\n",
      "  running build_py\n",
      "  creating build\n",
      "  creating build\\lib.win-amd64-cpython-37\n",
      "  creating build\\lib.win-amd64-cpython-37\\_argon2_cffi_bindings\n",
      "  copying src\\_argon2_cffi_bindings\\_ffi_build.py -> build\\lib.win-amd64-cpython-37\\_argon2_cffi_bindings\n",
      "  copying src\\_argon2_cffi_bindings\\__init__.py -> build\\lib.win-amd64-cpython-37\\_argon2_cffi_bindings\n",
      "  running build_ext\n",
      "  generating cffi module 'build\\\\temp.win-amd64-cpython-37\\\\Release\\\\_ffi.c'\n",
      "  creating build\\temp.win-amd64-cpython-37\n",
      "  creating build\\temp.win-amd64-cpython-37\\Release\n",
      "  building '_ffi' extension\n",
      "  error: Microsoft Visual C++ 14.0 or greater is required. Get it with \"Microsoft C++ Build Tools\": https://visualstudio.microsoft.com/visual-cpp-build-tools/\n",
      "  ----------------------------------------\n",
      "  ERROR: Failed building wheel for argon2-cffi-bindings\n",
      "ERROR: Could not build wheels for argon2-cffi-bindings which use PEP 517 and cannot be installed directly\n",
      "WARNING: You are using pip version 19.2.3, however version 22.2.2 is available.\n",
      "You should consider upgrading via the 'python -m pip install --upgrade pip' command.\n"
     ]
    }
   ],
   "source": [
    "pip install notebook"
   ]
  },
  {
   "cell_type": "code",
   "execution_count": 4,
   "metadata": {},
   "outputs": [
    {
     "name": "stdout",
     "output_type": "stream",
     "text": [
      "Collecting jupyterNote: you may need to restart the kernel to use updated packages.\n",
      "\n",
      "  Using cached https://files.pythonhosted.org/packages/83/df/0f5dd132200728a86190397e1ea87cd76244e42d39ec5e88efd25b2abd7e/jupyter-1.0.0-py2.py3-none-any.whl\n",
      "Collecting jupyter-console (from jupyter)\n",
      "  Using cached https://files.pythonhosted.org/packages/8b/0c/f9382ca7b7499c8594a5158817a72c95b4c09a6c6f2de10553bfe8905924/jupyter_console-6.4.4-py3-none-any.whl\n",
      "Collecting ipywidgets (from jupyter)\n",
      "  Using cached https://files.pythonhosted.org/packages/e4/56/990c10ca8751182ace2464cb0e4baafb7087a40c185c9142b9cd18683fac/ipywidgets-8.0.2-py3-none-any.whl\n",
      "Requirement already satisfied: ipykernel in c:\\users\\silvio\\appdata\\local\\programs\\python\\python37\\lib\\site-packages (from jupyter) (6.15.3)\n",
      "Collecting notebook (from jupyter)\n",
      "  Using cached https://files.pythonhosted.org/packages/b5/62/229659241aee54be38990e06e684bcfe5c9c8727185f5e39335be8821583/notebook-6.4.12-py3-none-any.whl\n",
      "Collecting qtconsole (from jupyter)\n",
      "  Using cached https://files.pythonhosted.org/packages/94/c6/24472e801a397cbffaae852cd92450f4e01cebbe4d5c82f834326fb0b8e7/qtconsole-5.3.2-py3-none-any.whl\n",
      "Collecting nbconvert (from jupyter)\n",
      "  Using cached https://files.pythonhosted.org/packages/b9/66/67e0a0f9e9cb0172d0d92686166418f69ec702ff7db2acca8c8caf325d0d/nbconvert-7.0.0-py3-none-any.whl\n",
      "Requirement already satisfied: pygments in c:\\users\\silvio\\appdata\\local\\programs\\python\\python37\\lib\\site-packages (from jupyter-console->jupyter) (2.13.0)\n",
      "Requirement already satisfied: ipython in c:\\users\\silvio\\appdata\\local\\programs\\python\\python37\\lib\\site-packages (from jupyter-console->jupyter) (7.34.0)\n",
      "Requirement already satisfied: jupyter-client>=7.0.0 in c:\\users\\silvio\\appdata\\local\\programs\\python\\python37\\lib\\site-packages (from jupyter-console->jupyter) (7.3.5)\n",
      "Requirement already satisfied: prompt-toolkit!=3.0.0,!=3.0.1,<3.1.0,>=2.0.0 in c:\\users\\silvio\\appdata\\local\\programs\\python\\python37\\lib\\site-packages (from jupyter-console->jupyter) (3.0.31)\n",
      "Collecting widgetsnbextension~=4.0 (from ipywidgets->jupyter)\n",
      "  Using cached https://files.pythonhosted.org/packages/d7/ae/ee70b20dc836d935a9a6483339854c09d8752e55a8104668e2426cf3baf3/widgetsnbextension-4.0.3-py3-none-any.whl\n",
      "Collecting jupyterlab-widgets~=3.0 (from ipywidgets->jupyter)\n",
      "  Using cached https://files.pythonhosted.org/packages/d8/52/2f4b8f5975312fb58f4eacab2e6f6cfd2efd05704514a60a151a4e69d608/jupyterlab_widgets-3.0.3-py3-none-any.whl\n",
      "Requirement already satisfied: traitlets>=4.3.1 in c:\\users\\silvio\\appdata\\local\\programs\\python\\python37\\lib\\site-packages (from ipywidgets->jupyter) (5.4.0)\n",
      "Requirement already satisfied: matplotlib-inline>=0.1 in c:\\users\\silvio\\appdata\\local\\programs\\python\\python37\\lib\\site-packages (from ipykernel->jupyter) (0.1.6)\n",
      "Requirement already satisfied: pyzmq>=17 in c:\\users\\silvio\\appdata\\local\\programs\\python\\python37\\lib\\site-packages (from ipykernel->jupyter) (24.0.1)\n",
      "Requirement already satisfied: nest-asyncio in c:\\users\\silvio\\appdata\\local\\programs\\python\\python37\\lib\\site-packages (from ipykernel->jupyter) (1.5.5)\n",
      "Requirement already satisfied: packaging in c:\\users\\silvio\\appdata\\local\\programs\\python\\python37\\lib\\site-packages (from ipykernel->jupyter) (21.3)\n",
      "Requirement already satisfied: psutil in c:\\users\\silvio\\appdata\\local\\programs\\python\\python37\\lib\\site-packages (from ipykernel->jupyter) (5.9.2)\n",
      "Requirement already satisfied: tornado>=6.1 in c:\\users\\silvio\\appdata\\local\\programs\\python\\python37\\lib\\site-packages (from ipykernel->jupyter) (6.2)\n",
      "Requirement already satisfied: debugpy>=1.0 in c:\\users\\silvio\\appdata\\local\\programs\\python\\python37\\lib\\site-packages (from ipykernel->jupyter) (1.6.3)\n",
      "Collecting jinja2 (from notebook->jupyter)\n",
      "  Using cached https://files.pythonhosted.org/packages/bc/c3/f068337a370801f372f2f8f6bad74a5c140f6fda3d9de154052708dd3c65/Jinja2-3.1.2-py3-none-any.whl\n",
      "Collecting argon2-cffi (from notebook->jupyter)\n",
      "  Using cached https://files.pythonhosted.org/packages/a8/07/946d5a9431bae05a776a59746ec385fbb79b526738d25e4202d3e0bbf7f4/argon2_cffi-21.3.0-py3-none-any.whl\n",
      "Requirement already satisfied: nbformat in c:\\users\\silvio\\appdata\\local\\programs\\python\\python37\\lib\\site-packages (from notebook->jupyter) (5.6.0)\n",
      "Requirement already satisfied: jupyter-core>=4.6.1 in c:\\users\\silvio\\appdata\\local\\programs\\python\\python37\\lib\\site-packages (from notebook->jupyter) (4.11.1)\n",
      "Collecting Send2Trash>=1.8.0 (from notebook->jupyter)\n",
      "  Using cached https://files.pythonhosted.org/packages/47/26/3435896d757335ea53dce5abf8d658ca80757a7a06258451b358f10232be/Send2Trash-1.8.0-py3-none-any.whl\n",
      "Collecting ipython-genutils (from notebook->jupyter)\n",
      "  Using cached https://files.pythonhosted.org/packages/fa/bc/9bd3b5c2b4774d5f33b2d544f1460be9df7df2fe42f352135381c347c69a/ipython_genutils-0.2.0-py2.py3-none-any.whl\n",
      "Collecting prometheus-client (from notebook->jupyter)\n",
      "  Using cached https://files.pythonhosted.org/packages/19/e5/7d4b4b3b0d8d2fdc55395cdb4271c6dbfde3c3ff7d6a6dbe63d19c4e2288/prometheus_client-0.14.1-py3-none-any.whl\n",
      "Collecting terminado>=0.8.3 (from notebook->jupyter)\n",
      "  Using cached https://files.pythonhosted.org/packages/85/be/6b89563289bc8df86f4089efcc4e28d39feaaa4c0863ddcb32dee18d0957/terminado-0.15.0-py3-none-any.whl\n",
      "Collecting qtpy>=2.0.1 (from qtconsole->jupyter)\n",
      "  Using cached https://files.pythonhosted.org/packages/8b/51/898d185af59cf0c7e035c0dc2739909d48396f1a08b3231bd0e09564a3e0/QtPy-2.2.0-py3-none-any.whl\n",
      "Collecting markupsafe>=2.0 (from nbconvert->jupyter)\n",
      "  Using cached https://files.pythonhosted.org/packages/3f/38/f422a81b41bdac48f1d19c45f6e203c04bc45d2c35505873fdecdddee1ec/MarkupSafe-2.1.1-cp37-cp37m-win_amd64.whl\n",
      "Collecting tinycss2 (from nbconvert->jupyter)\n",
      "  Using cached https://files.pythonhosted.org/packages/53/7b/5dba39bf0572f1f28e2844f08f74a73482a381de1d1feac3bbc6b808051e/tinycss2-1.1.1-py3-none-any.whl\n",
      "Collecting mistune<3,>=2.0.3 (from nbconvert->jupyter)\n",
      "  Using cached https://files.pythonhosted.org/packages/3a/c7/b0a4413a4d9b7a4fda0d710fd90dba62375f0d0c4544e848dc7656757c0c/mistune-2.0.4-py2.py3-none-any.whl\n",
      "Requirement already satisfied: lxml in c:\\users\\silvio\\appdata\\local\\programs\\python\\python37\\lib\\site-packages (from nbconvert->jupyter) (4.9.1)\n",
      "Collecting nbclient>=0.5.0 (from nbconvert->jupyter)\n",
      "  Using cached https://files.pythonhosted.org/packages/e6/1d/de31c4139603b3f43147dca571de7d1928bd23d5c674865342bd457ec419/nbclient-0.6.8-py3-none-any.whl\n",
      "Collecting pandocfilters>=1.4.1 (from nbconvert->jupyter)\n",
      "  Using cached https://files.pythonhosted.org/packages/5e/a8/878258cffd53202a6cc1903c226cf09e58ae3df6b09f8ddfa98033286637/pandocfilters-1.5.0-py2.py3-none-any.whl\n",
      "Collecting bleach (from nbconvert->jupyter)\n",
      "  Using cached https://files.pythonhosted.org/packages/d4/87/508104336a2bc0c4cfdbdceedc0f44dc72da3abc0460c57e323ddd1b3257/bleach-5.0.1-py3-none-any.whl\n",
      "Collecting beautifulsoup4 (from nbconvert->jupyter)\n",
      "  Using cached https://files.pythonhosted.org/packages/9c/d8/909c4089dbe4ade9f9705f143c9f13f065049a9d5e7d34c828aefdd0a97c/beautifulsoup4-4.11.1-py3-none-any.whl\n",
      "Collecting defusedxml (from nbconvert->jupyter)\n",
      "  Using cached https://files.pythonhosted.org/packages/07/6c/aa3f2f849e01cb6a001cd8554a88d4c77c5c1a31c95bdf1cf9301e6d9ef4/defusedxml-0.7.1-py2.py3-none-any.whl\n",
      "Collecting jupyterlab-pygments (from nbconvert->jupyter)\n",
      "  Using cached https://files.pythonhosted.org/packages/c0/7e/c3d1df3ae9b41686e664051daedbd70eea2e1d2bd9d9c33e7e1455bc9f96/jupyterlab_pygments-0.2.2-py2.py3-none-any.whl\n",
      "Requirement already satisfied: importlib-metadata>=3.6; python_version < \"3.10\" in c:\\users\\silvio\\appdata\\local\\programs\\python\\python37\\lib\\site-packages (from nbconvert->jupyter) (4.11.3)\n",
      "Requirement already satisfied: pickleshare in c:\\users\\silvio\\appdata\\local\\programs\\python\\python37\\lib\\site-packages (from ipython->jupyter-console->jupyter) (0.7.5)\n",
      "Requirement already satisfied: jedi>=0.16 in c:\\users\\silvio\\appdata\\local\\programs\\python\\python37\\lib\\site-packages (from ipython->jupyter-console->jupyter) (0.18.1)\n",
      "Requirement already satisfied: decorator in c:\\users\\silvio\\appdata\\local\\programs\\python\\python37\\lib\\site-packages (from ipython->jupyter-console->jupyter) (5.1.1)\n",
      "Requirement already satisfied: colorama; sys_platform == \"win32\" in c:\\users\\silvio\\appdata\\local\\programs\\python\\python37\\lib\\site-packages (from ipython->jupyter-console->jupyter) (0.4.4)\n",
      "Requirement already satisfied: setuptools>=18.5 in c:\\users\\silvio\\appdata\\local\\programs\\python\\python37\\lib\\site-packages (from ipython->jupyter-console->jupyter) (41.2.0)\n",
      "Requirement already satisfied: backcall in c:\\users\\silvio\\appdata\\local\\programs\\python\\python37\\lib\\site-packages (from ipython->jupyter-console->jupyter) (0.2.0)\n",
      "Requirement already satisfied: entrypoints in c:\\users\\silvio\\appdata\\local\\programs\\python\\python37\\lib\\site-packages (from jupyter-client>=7.0.0->jupyter-console->jupyter) (0.4)\n",
      "Requirement already satisfied: python-dateutil>=2.8.2 in c:\\users\\silvio\\appdata\\local\\programs\\python\\python37\\lib\\site-packages (from jupyter-client>=7.0.0->jupyter-console->jupyter) (2.8.2)\n",
      "Requirement already satisfied: wcwidth in c:\\users\\silvio\\appdata\\local\\programs\\python\\python37\\lib\\site-packages (from prompt-toolkit!=3.0.0,!=3.0.1,<3.1.0,>=2.0.0->jupyter-console->jupyter) (0.2.5)\n",
      "Requirement already satisfied: pyparsing!=3.0.5,>=2.0.2 in c:\\users\\silvio\\appdata\\local\\programs\\python\\python37\\lib\\site-packages (from packaging->ipykernel->jupyter) (3.0.9)\n",
      "Collecting argon2-cffi-bindings (from argon2-cffi->notebook->jupyter)\n",
      "  Using cached https://files.pythonhosted.org/packages/b9/e9/184b8ccce6683b0aa2fbb7ba5683ea4b9c5763f1356347f1312c32e3c66e/argon2-cffi-bindings-21.2.0.tar.gz\n",
      "  Installing build dependencies: started\n",
      "  Installing build dependencies: finished with status 'done'\n",
      "  Getting requirements to build wheel: started\n",
      "  Getting requirements to build wheel: finished with status 'done'\n",
      "    Preparing wheel metadata: started\n",
      "    Preparing wheel metadata: finished with status 'done'\n",
      "Requirement already satisfied: typing-extensions; python_version < \"3.8\" in c:\\users\\silvio\\appdata\\local\\programs\\python\\python37\\lib\\site-packages (from argon2-cffi->notebook->jupyter) (4.2.0)\n",
      "Requirement already satisfied: fastjsonschema in c:\\users\\silvio\\appdata\\local\\programs\\python\\python37\\lib\\site-packages (from nbformat->notebook->jupyter) (2.16.2)\n",
      "Requirement already satisfied: jsonschema>=2.6 in c:\\users\\silvio\\appdata\\local\\programs\\python\\python37\\lib\\site-packages (from nbformat->notebook->jupyter) (4.16.0)\n",
      "Requirement already satisfied: pywin32>=1.0; sys_platform == \"win32\" and platform_python_implementation != \"PyPy\" in c:\\users\\silvio\\appdata\\local\\programs\\python\\python37\\lib\\site-packages (from jupyter-core>=4.6.1->notebook->jupyter) (304)\n",
      "Collecting pywinpty>=1.1.0; os_name == \"nt\" (from terminado>=0.8.3->notebook->jupyter)\n",
      "  Using cached https://files.pythonhosted.org/packages/0f/e8/5dd278b7d9dac60d1989d14f381e0c4e2035ce97a74c01fb11adf3718e9e/pywinpty-2.0.8-cp37-none-win_amd64.whl\n",
      "Collecting webencodings>=0.4 (from tinycss2->nbconvert->jupyter)\n",
      "  Using cached https://files.pythonhosted.org/packages/f4/24/2a3e3df732393fed8b3ebf2ec078f05546de641fe1b667ee316ec1dcf3b7/webencodings-0.5.1-py2.py3-none-any.whl\n",
      "Requirement already satisfied: six>=1.9.0 in c:\\users\\silvio\\appdata\\local\\programs\\python\\python37\\lib\\site-packages (from bleach->nbconvert->jupyter) (1.16.0)\n",
      "Collecting soupsieve>1.2 (from beautifulsoup4->nbconvert->jupyter)\n",
      "  Using cached https://files.pythonhosted.org/packages/16/e3/4ad79882b92617e3a4a0df1960d6bce08edfb637737ac5c3f3ba29022e25/soupsieve-2.3.2.post1-py3-none-any.whl\n",
      "Requirement already satisfied: zipp>=0.5 in c:\\users\\silvio\\appdata\\local\\programs\\python\\python37\\lib\\site-packages (from importlib-metadata>=3.6; python_version < \"3.10\"->nbconvert->jupyter) (3.8.0)\n",
      "Requirement already satisfied: parso<0.9.0,>=0.8.0 in c:\\users\\silvio\\appdata\\local\\programs\\python\\python37\\lib\\site-packages (from jedi>=0.16->ipython->jupyter-console->jupyter) (0.8.3)\n",
      "Collecting cffi>=1.0.1 (from argon2-cffi-bindings->argon2-cffi->notebook->jupyter)\n",
      "  Using cached https://files.pythonhosted.org/packages/32/2a/63cb8c07d151de92ff9d897b2eb27ba6a0e78dda8e4c5f70d7b8c16cd6a2/cffi-1.15.1-cp37-cp37m-win_amd64.whl\n",
      "Requirement already satisfied: importlib-resources>=1.4.0; python_version < \"3.9\" in c:\\users\\silvio\\appdata\\local\\programs\\python\\python37\\lib\\site-packages (from jsonschema>=2.6->nbformat->notebook->jupyter) (5.9.0)\n",
      "Requirement already satisfied: pkgutil-resolve-name>=1.3.10; python_version < \"3.9\" in c:\\users\\silvio\\appdata\\local\\programs\\python\\python37\\lib\\site-packages (from jsonschema>=2.6->nbformat->notebook->jupyter) (1.3.10)\n",
      "Requirement already satisfied: pyrsistent!=0.17.0,!=0.17.1,!=0.17.2,>=0.14.0 in c:\\users\\silvio\\appdata\\local\\programs\\python\\python37\\lib\\site-packages (from jsonschema>=2.6->nbformat->notebook->jupyter) (0.18.1)\n",
      "Requirement already satisfied: attrs>=17.4.0 in c:\\users\\silvio\\appdata\\local\\programs\\python\\python37\\lib\\site-packages (from jsonschema>=2.6->nbformat->notebook->jupyter) (22.1.0)\n",
      "Collecting pycparser (from cffi>=1.0.1->argon2-cffi-bindings->argon2-cffi->notebook->jupyter)\n",
      "  Using cached https://files.pythonhosted.org/packages/62/d5/5f610ebe421e85889f2e55e33b7f9a6795bd982198517d912eb1c76e1a53/pycparser-2.21-py2.py3-none-any.whl\n",
      "Building wheels for collected packages: argon2-cffi-bindings\n",
      "  Building wheel for argon2-cffi-bindings (PEP 517): started\n",
      "  Building wheel for argon2-cffi-bindings (PEP 517): finished with status 'error'\n",
      "  Running setup.py clean for argon2-cffi-bindings\n",
      "Failed to build argon2-cffi-bindings\n"
     ]
    },
    {
     "name": "stderr",
     "output_type": "stream",
     "text": [
      "  ERROR: Command errored out with exit status 1:\n",
      "   command: 'c:\\Users\\Silvio\\AppData\\Local\\Programs\\Python\\Python37\\python.exe' 'c:\\Users\\Silvio\\AppData\\Local\\Programs\\Python\\Python37\\lib\\site-packages\\pip\\_vendor\\pep517\\_in_process.py' build_wheel 'C:\\Users\\Silvio\\AppData\\Local\\Temp\\tmp6qvkxta0'\n",
      "       cwd: C:\\Users\\Silvio\\AppData\\Local\\Temp\\pip-install-_gc4u_20\\argon2-cffi-bindings\n",
      "  Complete output (14 lines):\n",
      "  running bdist_wheel\n",
      "  running build\n",
      "  running build_py\n",
      "  creating build\n",
      "  creating build\\lib.win-amd64-cpython-37\n",
      "  creating build\\lib.win-amd64-cpython-37\\_argon2_cffi_bindings\n",
      "  copying src\\_argon2_cffi_bindings\\_ffi_build.py -> build\\lib.win-amd64-cpython-37\\_argon2_cffi_bindings\n",
      "  copying src\\_argon2_cffi_bindings\\__init__.py -> build\\lib.win-amd64-cpython-37\\_argon2_cffi_bindings\n",
      "  running build_ext\n",
      "  generating cffi module 'build\\\\temp.win-amd64-cpython-37\\\\Release\\\\_ffi.c'\n",
      "  creating build\\temp.win-amd64-cpython-37\n",
      "  creating build\\temp.win-amd64-cpython-37\\Release\n",
      "  building '_ffi' extension\n",
      "  error: Microsoft Visual C++ 14.0 or greater is required. Get it with \"Microsoft C++ Build Tools\": https://visualstudio.microsoft.com/visual-cpp-build-tools/\n",
      "  ----------------------------------------\n",
      "  ERROR: Failed building wheel for argon2-cffi-bindings\n",
      "ERROR: Could not build wheels for argon2-cffi-bindings which use PEP 517 and cannot be installed directly\n",
      "WARNING: You are using pip version 19.2.3, however version 22.2.2 is available.\n",
      "You should consider upgrading via the 'python -m pip install --upgrade pip' command.\n"
     ]
    }
   ],
   "source": [
    "pip install jupyter"
   ]
  },
  {
   "cell_type": "code",
   "execution_count": 5,
   "metadata": {},
   "outputs": [
    {
     "name": "stdout",
     "output_type": "stream",
     "text": [
      "Note: you may need to restart the kernel to use updated packages.\n"
     ]
    },
    {
     "name": "stderr",
     "output_type": "stream",
     "text": [
      "ERROR: Invalid requirement: '–upgrade'\n",
      "WARNING: You are using pip version 19.2.3, however version 22.2.2 is available.\n",
      "You should consider upgrading via the 'python -m pip install --upgrade pip' command.\n"
     ]
    }
   ],
   "source": [
    "pip install –upgrade nbformat."
   ]
  },
  {
   "cell_type": "code",
   "execution_count": 6,
   "metadata": {},
   "outputs": [
    {
     "name": "stdout",
     "output_type": "stream",
     "text": [
      "Requirement already satisfied: ipykernel in c:\\users\\silvio\\appdata\\local\\programs\\python\\python37\\lib\\site-packages (6.15.3)\n",
      "Requirement already satisfied: jupyter-client>=6.1.12 in c:\\users\\silvio\\appdata\\local\\programs\\python\\python37\\lib\\site-packages (from ipykernel) (7.3.5)\n",
      "Requirement already satisfied: traitlets>=5.1.0 in c:\\users\\silvio\\appdata\\local\\programs\\python\\python37\\lib\\site-packages (from ipykernel) (5.4.0)\n",
      "Requirement already satisfied: psutil in c:\\users\\silvio\\appdata\\local\\programs\\python\\python37\\lib\\site-packages (from ipykernel) (5.9.2)\n",
      "Requirement already satisfied: ipython>=7.23.1 in c:\\users\\silvio\\appdata\\local\\programs\\python\\python37\\lib\\site-packages (from ipykernel) (7.34.0)\n",
      "Requirement already satisfied: pyzmq>=17 in c:\\users\\silvio\\appdata\\local\\programs\\python\\python37\\lib\\site-packages (from ipykernel) (24.0.1)\n",
      "Requirement already satisfied: tornado>=6.1 in c:\\users\\silvio\\appdata\\local\\programs\\python\\python37\\lib\\site-packages (from ipykernel) (6.2)\n",
      "Requirement already satisfied: packaging in c:\\users\\silvio\\appdata\\local\\programs\\python\\python37\\lib\\site-packages (from ipykernel) (21.3)\n",
      "Requirement already satisfied: nest-asyncio in c:\\users\\silvio\\appdata\\local\\programs\\python\\python37\\lib\\site-packages (from ipykernel) (1.5.5)\n",
      "Requirement already satisfied: debugpy>=1.0 in c:\\users\\silvio\\appdata\\local\\programs\\python\\python37\\lib\\site-packages (from ipykernel) (1.6.3)\n",
      "Requirement already satisfied: matplotlib-inline>=0.1 in c:\\users\\silvio\\appdata\\local\\programs\\python\\python37\\lib\\site-packages (from ipykernel) (0.1.6)\n",
      "Requirement already satisfied: python-dateutil>=2.8.2 in c:\\users\\silvio\\appdata\\local\\programs\\python\\python37\\lib\\site-packages (from jupyter-client>=6.1.12->ipykernel) (2.8.2)\n",
      "Requirement already satisfied: jupyter-core>=4.9.2 in c:\\users\\silvio\\appdata\\local\\programs\\python\\python37\\lib\\site-packages (from jupyter-client>=6.1.12->ipykernel) (4.11.1)\n",
      "Requirement already satisfied: entrypoints in c:\\users\\silvio\\appdata\\local\\programs\\python\\python37\\lib\\site-packages (from jupyter-client>=6.1.12->ipykernel) (0.4)\n",
      "Requirement already satisfied: colorama; sys_platform == \"win32\" in c:\\users\\silvio\\appdata\\local\\programs\\python\\python37\\lib\\site-packages (from ipython>=7.23.1->ipykernel) (0.4.4)\n",
      "Requirement already satisfied: pygments in c:\\users\\silvio\\appdata\\local\\programs\\python\\python37\\lib\\site-packages (from ipython>=7.23.1->ipykernel) (2.13.0)\n",
      "Requirement already satisfied: backcall in c:\\users\\silvio\\appdata\\local\\programs\\python\\python37\\lib\\site-packages (from ipython>=7.23.1->ipykernel) (0.2.0)\n",
      "Requirement already satisfied: pickleshare in c:\\users\\silvio\\appdata\\local\\programs\\python\\python37\\lib\\site-packages (from ipython>=7.23.1->ipykernel) (0.7.5)\n",
      "Requirement already satisfied: jedi>=0.16 in c:\\users\\silvio\\appdata\\local\\programs\\python\\python37\\lib\\site-packages (from ipython>=7.23.1->ipykernel) (0.18.1)\n",
      "Requirement already satisfied: prompt-toolkit!=3.0.0,!=3.0.1,<3.1.0,>=2.0.0 in c:\\users\\silvio\\appdata\\local\\programs\\python\\python37\\lib\\site-packages (from ipython>=7.23.1->ipykernel) (3.0.31)\n",
      "Requirement already satisfied: decorator in c:\\users\\silvio\\appdata\\local\\programs\\python\\python37\\lib\\site-packages (from ipython>=7.23.1->ipykernel) (5.1.1)\n",
      "Requirement already satisfied: setuptools>=18.5 in c:\\users\\silvio\\appdata\\local\\programs\\python\\python37\\lib\\site-packages (from ipython>=7.23.1->ipykernel) (41.2.0)\n",
      "Requirement already satisfied: pyparsing!=3.0.5,>=2.0.2 in c:\\users\\silvio\\appdata\\local\\programs\\python\\python37\\lib\\site-packages (from packaging->ipykernel) (3.0.9)\n",
      "Requirement already satisfied: six>=1.5 in c:\\users\\silvio\\appdata\\local\\programs\\python\\python37\\lib\\site-packages (from python-dateutil>=2.8.2->jupyter-client>=6.1.12->ipykernel) (1.16.0)\n",
      "Requirement already satisfied: pywin32>=1.0; sys_platform == \"win32\" and platform_python_implementation != \"PyPy\" in c:\\users\\silvio\\appdata\\local\\programs\\python\\python37\\lib\\site-packages (from jupyter-core>=4.9.2->jupyter-client>=6.1.12->ipykernel) (304)\n",
      "Requirement already satisfied: parso<0.9.0,>=0.8.0 in c:\\users\\silvio\\appdata\\local\\programs\\python\\python37\\lib\\site-packages (from jedi>=0.16->ipython>=7.23.1->ipykernel) (0.8.3)\n",
      "Requirement already satisfied: wcwidth in c:\\users\\silvio\\appdata\\local\\programs\\python\\python37\\lib\\site-packages (from prompt-toolkit!=3.0.0,!=3.0.1,<3.1.0,>=2.0.0->ipython>=7.23.1->ipykernel) (0.2.5)\n",
      "Note: you may need to restart the kernel to use updated packages.\n"
     ]
    },
    {
     "name": "stderr",
     "output_type": "stream",
     "text": [
      "WARNING: You are using pip version 19.2.3, however version 22.2.2 is available.\n",
      "You should consider upgrading via the 'python -m pip install --upgrade pip' command.\n"
     ]
    }
   ],
   "source": [
    "pip install ipykernel"
   ]
  },
  {
   "cell_type": "code",
   "execution_count": 7,
   "metadata": {},
   "outputs": [
    {
     "name": "stdout",
     "output_type": "stream",
     "text": [
      "Requirement already up-to-date: nbformat in c:\\users\\silvio\\appdata\\local\\programs\\python\\python37\\lib\\site-packages (5.6.0)Note: you may need to restart the kernel to use updated packages.\n",
      "\n",
      "Requirement already satisfied, skipping upgrade: traitlets>=5.1 in c:\\users\\silvio\\appdata\\local\\programs\\python\\python37\\lib\\site-packages (from nbformat) (5.4.0)\n",
      "Requirement already satisfied, skipping upgrade: jupyter-core in c:\\users\\silvio\\appdata\\local\\programs\\python\\python37\\lib\\site-packages (from nbformat) (4.11.1)\n",
      "Requirement already satisfied, skipping upgrade: fastjsonschema in c:\\users\\silvio\\appdata\\local\\programs\\python\\python37\\lib\\site-packages (from nbformat) (2.16.2)\n",
      "Requirement already satisfied, skipping upgrade: jsonschema>=2.6 in c:\\users\\silvio\\appdata\\local\\programs\\python\\python37\\lib\\site-packages (from nbformat) (4.16.0)\n",
      "Requirement already satisfied, skipping upgrade: pywin32>=1.0; sys_platform == \"win32\" and platform_python_implementation != \"PyPy\" in c:\\users\\silvio\\appdata\\local\\programs\\python\\python37\\lib\\site-packages (from jupyter-core->nbformat) (304)\n",
      "Requirement already satisfied, skipping upgrade: attrs>=17.4.0 in c:\\users\\silvio\\appdata\\local\\programs\\python\\python37\\lib\\site-packages (from jsonschema>=2.6->nbformat) (22.1.0)\n",
      "Requirement already satisfied, skipping upgrade: pyrsistent!=0.17.0,!=0.17.1,!=0.17.2,>=0.14.0 in c:\\users\\silvio\\appdata\\local\\programs\\python\\python37\\lib\\site-packages (from jsonschema>=2.6->nbformat) (0.18.1)\n",
      "Requirement already satisfied, skipping upgrade: pkgutil-resolve-name>=1.3.10; python_version < \"3.9\" in c:\\users\\silvio\\appdata\\local\\programs\\python\\python37\\lib\\site-packages (from jsonschema>=2.6->nbformat) (1.3.10)\n",
      "Requirement already satisfied, skipping upgrade: typing-extensions; python_version < \"3.8\" in c:\\users\\silvio\\appdata\\local\\programs\\python\\python37\\lib\\site-packages (from jsonschema>=2.6->nbformat) (4.2.0)\n",
      "Requirement already satisfied, skipping upgrade: importlib-resources>=1.4.0; python_version < \"3.9\" in c:\\users\\silvio\\appdata\\local\\programs\\python\\python37\\lib\\site-packages (from jsonschema>=2.6->nbformat) (5.9.0)\n",
      "Requirement already satisfied, skipping upgrade: importlib-metadata; python_version < \"3.8\" in c:\\users\\silvio\\appdata\\local\\programs\\python\\python37\\lib\\site-packages (from jsonschema>=2.6->nbformat) (4.11.3)\n",
      "Requirement already satisfied, skipping upgrade: zipp>=3.1.0; python_version < \"3.10\" in c:\\users\\silvio\\appdata\\local\\programs\\python\\python37\\lib\\site-packages (from importlib-resources>=1.4.0; python_version < \"3.9\"->jsonschema>=2.6->nbformat) (3.8.0)\n"
     ]
    },
    {
     "name": "stderr",
     "output_type": "stream",
     "text": [
      "WARNING: You are using pip version 19.2.3, however version 22.2.2 is available.\n",
      "You should consider upgrading via the 'python -m pip install --upgrade pip' command.\n"
     ]
    }
   ],
   "source": [
    "pip install --upgrade nbformat"
   ]
  },
  {
   "cell_type": "code",
   "execution_count": 8,
   "metadata": {},
   "outputs": [
    {
     "name": "stdout",
     "output_type": "stream",
     "text": [
      "Requirement already satisfied: nbformat in c:\\users\\silvio\\appdata\\local\\programs\\python\\python37\\lib\\site-packages (5.6.0)\n",
      "Requirement already satisfied: jsonschema>=2.6 in c:\\users\\silvio\\appdata\\local\\programs\\python\\python37\\lib\\site-packages (from nbformat) (4.16.0)\n",
      "Requirement already satisfied: traitlets>=5.1 in c:\\users\\silvio\\appdata\\local\\programs\\python\\python37\\lib\\site-packages (from nbformat) (5.4.0)\n",
      "Requirement already satisfied: fastjsonschema in c:\\users\\silvio\\appdata\\local\\programs\\python\\python37\\lib\\site-packages (from nbformat) (2.16.2)\n",
      "Requirement already satisfied: jupyter-core in c:\\users\\silvio\\appdata\\local\\programs\\python\\python37\\lib\\site-packages (from nbformat) (4.11.1)\n",
      "Requirement already satisfied: attrs>=17.4.0 in c:\\users\\silvio\\appdata\\local\\programs\\python\\python37\\lib\\site-packages (from jsonschema>=2.6->nbformat) (22.1.0)\n",
      "Requirement already satisfied: importlib-resources>=1.4.0; python_version < \"3.9\" in c:\\users\\silvio\\appdata\\local\\programs\\python\\python37\\lib\\site-packages (from jsonschema>=2.6->nbformat) (5.9.0)\n",
      "Requirement already satisfied: pyrsistent!=0.17.0,!=0.17.1,!=0.17.2,>=0.14.0 in c:\\users\\silvio\\appdata\\local\\programs\\python\\python37\\lib\\site-packages (from jsonschema>=2.6->nbformat) (0.18.1)\n",
      "Requirement already satisfied: pkgutil-resolve-name>=1.3.10; python_version < \"3.9\" in c:\\users\\silvio\\appdata\\local\\programs\\python\\python37\\lib\\site-packages (from jsonschema>=2.6->nbformat) (1.3.10)\n",
      "Requirement already satisfied: typing-extensions; python_version < \"3.8\" in c:\\users\\silvio\\appdata\\local\\programs\\python\\python37\\lib\\site-packages (from jsonschema>=2.6->nbformat) (4.2.0)\n",
      "Requirement already satisfied: importlib-metadata; python_version < \"3.8\" in c:\\users\\silvio\\appdata\\local\\programs\\python\\python37\\lib\\site-packages (from jsonschema>=2.6->nbformat) (4.11.3)\n",
      "Requirement already satisfied: pywin32>=1.0; sys_platform == \"win32\" and platform_python_implementation != \"PyPy\" in c:\\users\\silvio\\appdata\\local\\programs\\python\\python37\\lib\\site-packages (from jupyter-core->nbformat) (304)\n",
      "Requirement already satisfied: zipp>=3.1.0; python_version < \"3.10\" in c:\\users\\silvio\\appdata\\local\\programs\\python\\python37\\lib\\site-packages (from importlib-resources>=1.4.0; python_version < \"3.9\"->jsonschema>=2.6->nbformat) (3.8.0)\n",
      "Note: you may need to restart the kernel to use updated packages.\n"
     ]
    },
    {
     "name": "stderr",
     "output_type": "stream",
     "text": [
      "WARNING: You are using pip version 19.2.3, however version 22.2.2 is available.\n",
      "You should consider upgrading via the 'python -m pip install --upgrade pip' command.\n"
     ]
    }
   ],
   "source": [
    "pip install nbformat "
   ]
  },
  {
   "cell_type": "code",
   "execution_count": 9,
   "metadata": {},
   "outputs": [
    {
     "name": "stdout",
     "output_type": "stream",
     "text": [
      "Requirement already up-to-date: nbformat in c:\\users\\silvio\\appdata\\local\\programs\\python\\python37\\lib\\site-packages (5.6.0)Note: you may need to restart the kernel to use updated packages.\n",
      "\n",
      "Requirement already satisfied, skipping upgrade: jsonschema>=2.6 in c:\\users\\silvio\\appdata\\local\\programs\\python\\python37\\lib\\site-packages (from nbformat) (4.16.0)\n",
      "Requirement already satisfied, skipping upgrade: jupyter-core in c:\\users\\silvio\\appdata\\local\\programs\\python\\python37\\lib\\site-packages (from nbformat) (4.11.1)\n",
      "Requirement already satisfied, skipping upgrade: traitlets>=5.1 in c:\\users\\silvio\\appdata\\local\\programs\\python\\python37\\lib\\site-packages (from nbformat) (5.4.0)\n",
      "Requirement already satisfied, skipping upgrade: fastjsonschema in c:\\users\\silvio\\appdata\\local\\programs\\python\\python37\\lib\\site-packages (from nbformat) (2.16.2)\n",
      "Requirement already satisfied, skipping upgrade: importlib-resources>=1.4.0; python_version < \"3.9\" in c:\\users\\silvio\\appdata\\local\\programs\\python\\python37\\lib\\site-packages (from jsonschema>=2.6->nbformat) (5.9.0)\n",
      "Requirement already satisfied, skipping upgrade: pkgutil-resolve-name>=1.3.10; python_version < \"3.9\" in c:\\users\\silvio\\appdata\\local\\programs\\python\\python37\\lib\\site-packages (from jsonschema>=2.6->nbformat) (1.3.10)\n",
      "Requirement already satisfied, skipping upgrade: typing-extensions; python_version < \"3.8\" in c:\\users\\silvio\\appdata\\local\\programs\\python\\python37\\lib\\site-packages (from jsonschema>=2.6->nbformat) (4.2.0)\n",
      "Requirement already satisfied, skipping upgrade: pyrsistent!=0.17.0,!=0.17.1,!=0.17.2,>=0.14.0 in c:\\users\\silvio\\appdata\\local\\programs\\python\\python37\\lib\\site-packages (from jsonschema>=2.6->nbformat) (0.18.1)\n",
      "Requirement already satisfied, skipping upgrade: importlib-metadata; python_version < \"3.8\" in c:\\users\\silvio\\appdata\\local\\programs\\python\\python37\\lib\\site-packages (from jsonschema>=2.6->nbformat) (4.11.3)\n",
      "Requirement already satisfied, skipping upgrade: attrs>=17.4.0 in c:\\users\\silvio\\appdata\\local\\programs\\python\\python37\\lib\\site-packages (from jsonschema>=2.6->nbformat) (22.1.0)\n",
      "Requirement already satisfied, skipping upgrade: pywin32>=1.0; sys_platform == \"win32\" and platform_python_implementation != \"PyPy\" in c:\\users\\silvio\\appdata\\local\\programs\\python\\python37\\lib\\site-packages (from jupyter-core->nbformat) (304)\n",
      "Requirement already satisfied, skipping upgrade: zipp>=3.1.0; python_version < \"3.10\" in c:\\users\\silvio\\appdata\\local\\programs\\python\\python37\\lib\\site-packages (from importlib-resources>=1.4.0; python_version < \"3.9\"->jsonschema>=2.6->nbformat) (3.8.0)\n"
     ]
    },
    {
     "name": "stderr",
     "output_type": "stream",
     "text": [
      "WARNING: You are using pip version 19.2.3, however version 22.2.2 is available.\n",
      "You should consider upgrading via the 'python -m pip install --upgrade pip' command.\n"
     ]
    }
   ],
   "source": [
    "pip install --upgrade nbformat"
   ]
  },
  {
   "cell_type": "code",
   "execution_count": 10,
   "metadata": {},
   "outputs": [],
   "source": [
    "# This toll is a llot like with plotly these tools working building graphics based the date provided sand"
   ]
  },
  {
   "cell_type": "code",
   "execution_count": 11,
   "metadata": {},
   "outputs": [
    {
     "name": "stdout",
     "output_type": "stream",
     "text": [
      "Requirement already satisfied: seaborn in c:\\users\\silvio\\appdata\\local\\programs\\python\\python37\\lib\\site-packages (0.12.0)\n",
      "Requirement already satisfied: matplotlib>=3.1 in c:\\users\\silvio\\appdata\\local\\programs\\python\\python37\\lib\\site-packages (from seaborn) (3.5.3)\n",
      "Requirement already satisfied: numpy>=1.17 in c:\\users\\silvio\\appdata\\local\\programs\\python\\python37\\lib\\site-packages (from seaborn) (1.21.6)\n",
      "Requirement already satisfied: pandas>=0.25 in c:\\users\\silvio\\appdata\\local\\programs\\python\\python37\\lib\\site-packages (from seaborn) (1.3.5)\n",
      "Requirement already satisfied: typing_extensions; python_version < \"3.8\" in c:\\users\\silvio\\appdata\\local\\programs\\python\\python37\\lib\\site-packages (from seaborn) (4.2.0)\n",
      "Requirement already satisfied: packaging>=20.0 in c:\\users\\silvio\\appdata\\local\\programs\\python\\python37\\lib\\site-packages (from matplotlib>=3.1->seaborn) (21.3)\n",
      "Requirement already satisfied: kiwisolver>=1.0.1 in c:\\users\\silvio\\appdata\\local\\programs\\python\\python37\\lib\\site-packages (from matplotlib>=3.1->seaborn) (1.4.4)\n",
      "Requirement already satisfied: fonttools>=4.22.0 in c:\\users\\silvio\\appdata\\local\\programs\\python\\python37\\lib\\site-packages (from matplotlib>=3.1->seaborn) (4.37.3)\n",
      "Requirement already satisfied: pillow>=6.2.0 in c:\\users\\silvio\\appdata\\local\\programs\\python\\python37\\lib\\site-packages (from matplotlib>=3.1->seaborn) (9.2.0)\n",
      "Requirement already satisfied: python-dateutil>=2.7 in c:\\users\\silvio\\appdata\\local\\programs\\python\\python37\\lib\\site-packages (from matplotlib>=3.1->seaborn) (2.8.2)\n",
      "Requirement already satisfied: pyparsing>=2.2.1 in c:\\users\\silvio\\appdata\\local\\programs\\python\\python37\\lib\\site-packages (from matplotlib>=3.1->seaborn) (3.0.9)\n",
      "Requirement already satisfied: cycler>=0.10 in c:\\users\\silvio\\appdata\\local\\programs\\python\\python37\\lib\\site-packages (from matplotlib>=3.1->seaborn) (0.11.0)\n",
      "Requirement already satisfied: pytz>=2017.3 in c:\\users\\silvio\\appdata\\local\\programs\\python\\python37\\lib\\site-packages (from pandas>=0.25->seaborn) (2022.2.1)\n",
      "Requirement already satisfied: six>=1.5 in c:\\users\\silvio\\appdata\\local\\programs\\python\\python37\\lib\\site-packages (from python-dateutil>=2.7->matplotlib>=3.1->seaborn) (1.16.0)\n",
      "Note: you may need to restart the kernel to use updated packages.\n"
     ]
    },
    {
     "name": "stderr",
     "output_type": "stream",
     "text": [
      "WARNING: You are using pip version 19.2.3, however version 22.2.2 is available.\n",
      "You should consider upgrading via the 'python -m pip install --upgrade pip' command.\n"
     ]
    }
   ],
   "source": [
    "pip install seaborn"
   ]
  },
  {
   "cell_type": "code",
   "execution_count": 12,
   "metadata": {},
   "outputs": [
    {
     "name": "stdout",
     "output_type": "stream",
     "text": [
      "Collecting plotly.express\n",
      "  Using cached https://files.pythonhosted.org/packages/d4/d6/8a2906f51e073a4be80cab35cfa10e7a34853e60f3ed5304ac470852a08d/plotly_express-0.4.1-py2.py3-none-any.whl\n",
      "Requirement already satisfied: numpy>=1.11 in c:\\users\\silvio\\appdata\\local\\programs\\python\\python37\\lib\\site-packages (from plotly.express) (1.21.6)\n",
      "Requirement already satisfied: patsy>=0.5 in c:\\users\\silvio\\appdata\\local\\programs\\python\\python37\\lib\\site-packages (from plotly.express) (0.5.2)\n",
      "Requirement already satisfied: pandas>=0.20.0 in c:\\users\\silvio\\appdata\\local\\programs\\python\\python37\\lib\\site-packages (from plotly.express) (1.3.5)\n",
      "Requirement already satisfied: plotly>=4.1.0 in c:\\users\\silvio\\appdata\\local\\programs\\python\\python37\\lib\\site-packages (from plotly.express) (5.10.0)\n",
      "Requirement already satisfied: scipy>=0.18 in c:\\users\\silvio\\appdata\\local\\programs\\python\\python37\\lib\\site-packages (from plotly.express) (1.7.3)\n",
      "Requirement already satisfied: statsmodels>=0.9.0 in c:\\users\\silvio\\appdata\\local\\programs\\python\\python37\\lib\\site-packages (from plotly.express) (0.13.2)\n",
      "Requirement already satisfied: six in c:\\users\\silvio\\appdata\\local\\programs\\python\\python37\\lib\\site-packages (from patsy>=0.5->plotly.express) (1.16.0)\n",
      "Requirement already satisfied: python-dateutil>=2.7.3 in c:\\users\\silvio\\appdata\\local\\programs\\python\\python37\\lib\\site-packages (from pandas>=0.20.0->plotly.express) (2.8.2)\n",
      "Requirement already satisfied: pytz>=2017.3 in c:\\users\\silvio\\appdata\\local\\programs\\python\\python37\\lib\\site-packages (from pandas>=0.20.0->plotly.express) (2022.2.1)\n",
      "Requirement already satisfied: tenacity>=6.2.0 in c:\\users\\silvio\\appdata\\local\\programs\\python\\python37\\lib\\site-packages (from plotly>=4.1.0->plotly.express) (8.1.0)\n",
      "Requirement already satisfied: packaging>=21.3 in c:\\users\\silvio\\appdata\\local\\programs\\python\\python37\\lib\\site-packages (from statsmodels>=0.9.0->plotly.express) (21.3)\n",
      "Requirement already satisfied: pyparsing!=3.0.5,>=2.0.2 in c:\\users\\silvio\\appdata\\local\\programs\\python\\python37\\lib\\site-packages (from packaging>=21.3->statsmodels>=0.9.0->plotly.express) (3.0.9)\n",
      "Installing collected packages: plotly.express\n",
      "Successfully installed plotly.express\n",
      "Note: you may need to restart the kernel to use updated packages.\n"
     ]
    },
    {
     "name": "stderr",
     "output_type": "stream",
     "text": [
      "WARNING: You are using pip version 19.2.3, however version 22.2.2 is available.\n",
      "You should consider upgrading via the 'python -m pip install --upgrade pip' command.\n"
     ]
    }
   ],
   "source": [
    "pip install plotly.express"
   ]
  },
  {
   "cell_type": "code",
   "execution_count": 13,
   "metadata": {},
   "outputs": [],
   "source": [
    "%load_ext autoreload\n",
    "%autoreload 2"
   ]
  },
  {
   "cell_type": "code",
   "execution_count": 14,
   "metadata": {},
   "outputs": [],
   "source": [
    "# Importing  libraries"
   ]
  },
  {
   "cell_type": "code",
   "execution_count": 15,
   "metadata": {},
   "outputs": [],
   "source": [
    "import pandas as pd\n",
    "import numpy as np\n",
    "import seaborn as sns\n",
    "import matplotlib.pyplot as plt\n",
    "import plotly.express as px\n",
    "import yfinance as yf"
   ]
  },
  {
   "cell_type": "code",
   "execution_count": 16,
   "metadata": {},
   "outputs": [],
   "source": [
    "# Companies choosed by user"
   ]
  },
  {
   "cell_type": "code",
   "execution_count": 17,
   "metadata": {},
   "outputs": [],
   "source": [
    "ações = ['PETZ3.SA', 'AMER3.SA', 'VIIA3.SA', 'AMZO34.SA', 'AAPL34.SA']"
   ]
  },
  {
   "cell_type": "code",
   "execution_count": 18,
   "metadata": {},
   "outputs": [],
   "source": [
    "# Downloading the data about the companies"
   ]
  },
  {
   "cell_type": "code",
   "execution_count": 19,
   "metadata": {},
   "outputs": [
    {
     "name": "stdout",
     "output_type": "stream",
     "text": [
      "[*********************100%***********************]  5 of 5 completed\n",
      "[*********************100%***********************]  5 of 5 completed\n",
      "[*********************100%***********************]  5 of 5 completed\n",
      "[*********************100%***********************]  5 of 5 completed\n",
      "[*********************100%***********************]  5 of 5 completed\n"
     ]
    }
   ],
   "source": [
    "ações_df = pd.DataFrame()\n",
    "for i in ações:\n",
    "  ações_df[ações] = yf.download(ações, start='2020-11-26')['Close']"
   ]
  },
  {
   "cell_type": "code",
   "execution_count": 20,
   "metadata": {},
   "outputs": [
    {
     "data": {
      "text/html": [
       "<div>\n",
       "<style scoped>\n",
       "    .dataframe tbody tr th:only-of-type {\n",
       "        vertical-align: middle;\n",
       "    }\n",
       "\n",
       "    .dataframe tbody tr th {\n",
       "        vertical-align: top;\n",
       "    }\n",
       "\n",
       "    .dataframe thead th {\n",
       "        text-align: right;\n",
       "    }\n",
       "</style>\n",
       "<table border=\"1\" class=\"dataframe\">\n",
       "  <thead>\n",
       "    <tr style=\"text-align: right;\">\n",
       "      <th></th>\n",
       "      <th>PETZ3.SA</th>\n",
       "      <th>AMER3.SA</th>\n",
       "      <th>VIIA3.SA</th>\n",
       "      <th>AMZO34.SA</th>\n",
       "      <th>AAPL34.SA</th>\n",
       "    </tr>\n",
       "    <tr>\n",
       "      <th>Date</th>\n",
       "      <th></th>\n",
       "      <th></th>\n",
       "      <th></th>\n",
       "      <th></th>\n",
       "      <th></th>\n",
       "    </tr>\n",
       "  </thead>\n",
       "  <tbody>\n",
       "    <tr>\n",
       "      <th>2020-11-26</th>\n",
       "      <td>62.270000</td>\n",
       "      <td>75.750000</td>\n",
       "      <td>42.115250</td>\n",
       "      <td>19.000000</td>\n",
       "      <td>19.209999</td>\n",
       "    </tr>\n",
       "    <tr>\n",
       "      <th>2020-11-27</th>\n",
       "      <td>62.290001</td>\n",
       "      <td>76.610001</td>\n",
       "      <td>42.664749</td>\n",
       "      <td>19.250000</td>\n",
       "      <td>18.490000</td>\n",
       "    </tr>\n",
       "    <tr>\n",
       "      <th>2020-11-30</th>\n",
       "      <td>64.300003</td>\n",
       "      <td>70.400002</td>\n",
       "      <td>42.389999</td>\n",
       "      <td>19.000000</td>\n",
       "      <td>17.750000</td>\n",
       "    </tr>\n",
       "    <tr>\n",
       "      <th>2020-12-01</th>\n",
       "      <td>64.019997</td>\n",
       "      <td>69.760002</td>\n",
       "      <td>42.389999</td>\n",
       "      <td>18.170000</td>\n",
       "      <td>17.150000</td>\n",
       "    </tr>\n",
       "    <tr>\n",
       "      <th>2020-12-02</th>\n",
       "      <td>64.529999</td>\n",
       "      <td>68.500000</td>\n",
       "      <td>41.895451</td>\n",
       "      <td>18.690001</td>\n",
       "      <td>17.120001</td>\n",
       "    </tr>\n",
       "    <tr>\n",
       "      <th>...</th>\n",
       "      <td>...</td>\n",
       "      <td>...</td>\n",
       "      <td>...</td>\n",
       "      <td>...</td>\n",
       "      <td>...</td>\n",
       "    </tr>\n",
       "    <tr>\n",
       "      <th>2022-09-19</th>\n",
       "      <td>79.660004</td>\n",
       "      <td>17.420000</td>\n",
       "      <td>32.099998</td>\n",
       "      <td>10.450000</td>\n",
       "      <td>3.220000</td>\n",
       "    </tr>\n",
       "    <tr>\n",
       "      <th>2022-09-20</th>\n",
       "      <td>80.809998</td>\n",
       "      <td>17.389999</td>\n",
       "      <td>31.580000</td>\n",
       "      <td>10.360000</td>\n",
       "      <td>3.190000</td>\n",
       "    </tr>\n",
       "    <tr>\n",
       "      <th>2022-09-21</th>\n",
       "      <td>79.500000</td>\n",
       "      <td>17.510000</td>\n",
       "      <td>30.780001</td>\n",
       "      <td>10.550000</td>\n",
       "      <td>3.350000</td>\n",
       "    </tr>\n",
       "    <tr>\n",
       "      <th>2022-09-22</th>\n",
       "      <td>78.250000</td>\n",
       "      <td>17.240000</td>\n",
       "      <td>30.170000</td>\n",
       "      <td>10.680000</td>\n",
       "      <td>3.360000</td>\n",
       "    </tr>\n",
       "    <tr>\n",
       "      <th>2022-09-23</th>\n",
       "      <td>78.720001</td>\n",
       "      <td>17.530001</td>\n",
       "      <td>29.730000</td>\n",
       "      <td>11.160000</td>\n",
       "      <td>3.350000</td>\n",
       "    </tr>\n",
       "  </tbody>\n",
       "</table>\n",
       "<p>454 rows × 5 columns</p>\n",
       "</div>"
      ],
      "text/plain": [
       "             PETZ3.SA   AMER3.SA   VIIA3.SA  AMZO34.SA  AAPL34.SA\n",
       "Date                                                             \n",
       "2020-11-26  62.270000  75.750000  42.115250  19.000000  19.209999\n",
       "2020-11-27  62.290001  76.610001  42.664749  19.250000  18.490000\n",
       "2020-11-30  64.300003  70.400002  42.389999  19.000000  17.750000\n",
       "2020-12-01  64.019997  69.760002  42.389999  18.170000  17.150000\n",
       "2020-12-02  64.529999  68.500000  41.895451  18.690001  17.120001\n",
       "...               ...        ...        ...        ...        ...\n",
       "2022-09-19  79.660004  17.420000  32.099998  10.450000   3.220000\n",
       "2022-09-20  80.809998  17.389999  31.580000  10.360000   3.190000\n",
       "2022-09-21  79.500000  17.510000  30.780001  10.550000   3.350000\n",
       "2022-09-22  78.250000  17.240000  30.170000  10.680000   3.360000\n",
       "2022-09-23  78.720001  17.530001  29.730000  11.160000   3.350000\n",
       "\n",
       "[454 rows x 5 columns]"
      ]
     },
     "execution_count": 20,
     "metadata": {},
     "output_type": "execute_result"
    }
   ],
   "source": [
    "ações_df"
   ]
  },
  {
   "cell_type": "code",
   "execution_count": 21,
   "metadata": {},
   "outputs": [],
   "source": [
    "# Changing the name of columns"
   ]
  },
  {
   "cell_type": "code",
   "execution_count": 22,
   "metadata": {},
   "outputs": [],
   "source": [
    "ações_df = ações_df.rename(columns= {'PETZ3.SA': 'PETZ3', 'AMER3.SA': 'AMERICANAS', 'VIIA3.SA': 'VIA VAREJO', 'AMZO34.SA': 'AMAZON', 'AAPL34.SA': 'APPLE' })"
   ]
  },
  {
   "cell_type": "code",
   "execution_count": 23,
   "metadata": {},
   "outputs": [
    {
     "data": {
      "text/html": [
       "<div>\n",
       "<style scoped>\n",
       "    .dataframe tbody tr th:only-of-type {\n",
       "        vertical-align: middle;\n",
       "    }\n",
       "\n",
       "    .dataframe tbody tr th {\n",
       "        vertical-align: top;\n",
       "    }\n",
       "\n",
       "    .dataframe thead th {\n",
       "        text-align: right;\n",
       "    }\n",
       "</style>\n",
       "<table border=\"1\" class=\"dataframe\">\n",
       "  <thead>\n",
       "    <tr style=\"text-align: right;\">\n",
       "      <th></th>\n",
       "      <th>PETZ3</th>\n",
       "      <th>AMERICANAS</th>\n",
       "      <th>VIA VAREJO</th>\n",
       "      <th>AMAZON</th>\n",
       "      <th>APPLE</th>\n",
       "    </tr>\n",
       "    <tr>\n",
       "      <th>Date</th>\n",
       "      <th></th>\n",
       "      <th></th>\n",
       "      <th></th>\n",
       "      <th></th>\n",
       "      <th></th>\n",
       "    </tr>\n",
       "  </thead>\n",
       "  <tbody>\n",
       "    <tr>\n",
       "      <th>2020-11-26</th>\n",
       "      <td>62.270000</td>\n",
       "      <td>75.750000</td>\n",
       "      <td>42.115250</td>\n",
       "      <td>19.000000</td>\n",
       "      <td>19.209999</td>\n",
       "    </tr>\n",
       "    <tr>\n",
       "      <th>2020-11-27</th>\n",
       "      <td>62.290001</td>\n",
       "      <td>76.610001</td>\n",
       "      <td>42.664749</td>\n",
       "      <td>19.250000</td>\n",
       "      <td>18.490000</td>\n",
       "    </tr>\n",
       "    <tr>\n",
       "      <th>2020-11-30</th>\n",
       "      <td>64.300003</td>\n",
       "      <td>70.400002</td>\n",
       "      <td>42.389999</td>\n",
       "      <td>19.000000</td>\n",
       "      <td>17.750000</td>\n",
       "    </tr>\n",
       "    <tr>\n",
       "      <th>2020-12-01</th>\n",
       "      <td>64.019997</td>\n",
       "      <td>69.760002</td>\n",
       "      <td>42.389999</td>\n",
       "      <td>18.170000</td>\n",
       "      <td>17.150000</td>\n",
       "    </tr>\n",
       "    <tr>\n",
       "      <th>2020-12-02</th>\n",
       "      <td>64.529999</td>\n",
       "      <td>68.500000</td>\n",
       "      <td>41.895451</td>\n",
       "      <td>18.690001</td>\n",
       "      <td>17.120001</td>\n",
       "    </tr>\n",
       "    <tr>\n",
       "      <th>...</th>\n",
       "      <td>...</td>\n",
       "      <td>...</td>\n",
       "      <td>...</td>\n",
       "      <td>...</td>\n",
       "      <td>...</td>\n",
       "    </tr>\n",
       "    <tr>\n",
       "      <th>2022-09-19</th>\n",
       "      <td>79.660004</td>\n",
       "      <td>17.420000</td>\n",
       "      <td>32.099998</td>\n",
       "      <td>10.450000</td>\n",
       "      <td>3.220000</td>\n",
       "    </tr>\n",
       "    <tr>\n",
       "      <th>2022-09-20</th>\n",
       "      <td>80.809998</td>\n",
       "      <td>17.389999</td>\n",
       "      <td>31.580000</td>\n",
       "      <td>10.360000</td>\n",
       "      <td>3.190000</td>\n",
       "    </tr>\n",
       "    <tr>\n",
       "      <th>2022-09-21</th>\n",
       "      <td>79.500000</td>\n",
       "      <td>17.510000</td>\n",
       "      <td>30.780001</td>\n",
       "      <td>10.550000</td>\n",
       "      <td>3.350000</td>\n",
       "    </tr>\n",
       "    <tr>\n",
       "      <th>2022-09-22</th>\n",
       "      <td>78.250000</td>\n",
       "      <td>17.240000</td>\n",
       "      <td>30.170000</td>\n",
       "      <td>10.680000</td>\n",
       "      <td>3.360000</td>\n",
       "    </tr>\n",
       "    <tr>\n",
       "      <th>2022-09-23</th>\n",
       "      <td>78.720001</td>\n",
       "      <td>17.530001</td>\n",
       "      <td>29.730000</td>\n",
       "      <td>11.160000</td>\n",
       "      <td>3.350000</td>\n",
       "    </tr>\n",
       "  </tbody>\n",
       "</table>\n",
       "<p>454 rows × 5 columns</p>\n",
       "</div>"
      ],
      "text/plain": [
       "                PETZ3  AMERICANAS  VIA VAREJO     AMAZON      APPLE\n",
       "Date                                                               \n",
       "2020-11-26  62.270000   75.750000   42.115250  19.000000  19.209999\n",
       "2020-11-27  62.290001   76.610001   42.664749  19.250000  18.490000\n",
       "2020-11-30  64.300003   70.400002   42.389999  19.000000  17.750000\n",
       "2020-12-01  64.019997   69.760002   42.389999  18.170000  17.150000\n",
       "2020-12-02  64.529999   68.500000   41.895451  18.690001  17.120001\n",
       "...               ...         ...         ...        ...        ...\n",
       "2022-09-19  79.660004   17.420000   32.099998  10.450000   3.220000\n",
       "2022-09-20  80.809998   17.389999   31.580000  10.360000   3.190000\n",
       "2022-09-21  79.500000   17.510000   30.780001  10.550000   3.350000\n",
       "2022-09-22  78.250000   17.240000   30.170000  10.680000   3.360000\n",
       "2022-09-23  78.720001   17.530001   29.730000  11.160000   3.350000\n",
       "\n",
       "[454 rows x 5 columns]"
      ]
     },
     "execution_count": 23,
     "metadata": {},
     "output_type": "execute_result"
    }
   ],
   "source": [
    "ações_df"
   ]
  },
  {
   "cell_type": "code",
   "execution_count": 24,
   "metadata": {},
   "outputs": [],
   "source": [
    "# Checking if there is data missing"
   ]
  },
  {
   "cell_type": "code",
   "execution_count": 25,
   "metadata": {},
   "outputs": [
    {
     "data": {
      "text/plain": [
       "PETZ3         0\n",
       "AMERICANAS    0\n",
       "VIA VAREJO    0\n",
       "AMAZON        0\n",
       "APPLE         0\n",
       "dtype: int64"
      ]
     },
     "execution_count": 25,
     "metadata": {},
     "output_type": "execute_result"
    }
   ],
   "source": [
    "ações_df.isnull().sum()"
   ]
  },
  {
   "cell_type": "code",
   "execution_count": 26,
   "metadata": {},
   "outputs": [],
   "source": [
    "ações_df.dropna(inplace=True)"
   ]
  },
  {
   "cell_type": "code",
   "execution_count": 27,
   "metadata": {},
   "outputs": [],
   "source": [
    "ações_df.to_csv('Nova_ação.csv')"
   ]
  },
  {
   "cell_type": "code",
   "execution_count": 28,
   "metadata": {},
   "outputs": [],
   "source": [
    "ação_novo = pd.read_csv('C:\\\\Users\\\\Silvio\\\\Documents\\\\GitHub\\\\Finance\\\\Nova_ação.csv')"
   ]
  },
  {
   "cell_type": "code",
   "execution_count": 29,
   "metadata": {},
   "outputs": [
    {
     "data": {
      "text/html": [
       "<div>\n",
       "<style scoped>\n",
       "    .dataframe tbody tr th:only-of-type {\n",
       "        vertical-align: middle;\n",
       "    }\n",
       "\n",
       "    .dataframe tbody tr th {\n",
       "        vertical-align: top;\n",
       "    }\n",
       "\n",
       "    .dataframe thead th {\n",
       "        text-align: right;\n",
       "    }\n",
       "</style>\n",
       "<table border=\"1\" class=\"dataframe\">\n",
       "  <thead>\n",
       "    <tr style=\"text-align: right;\">\n",
       "      <th></th>\n",
       "      <th>Date</th>\n",
       "      <th>PETZ3</th>\n",
       "      <th>AMERICANAS</th>\n",
       "      <th>VIA VAREJO</th>\n",
       "      <th>AMAZON</th>\n",
       "      <th>APPLE</th>\n",
       "    </tr>\n",
       "  </thead>\n",
       "  <tbody>\n",
       "    <tr>\n",
       "      <th>0</th>\n",
       "      <td>2020-11-26</td>\n",
       "      <td>62.270000</td>\n",
       "      <td>75.750000</td>\n",
       "      <td>42.115250</td>\n",
       "      <td>19.000000</td>\n",
       "      <td>19.209999</td>\n",
       "    </tr>\n",
       "    <tr>\n",
       "      <th>1</th>\n",
       "      <td>2020-11-27</td>\n",
       "      <td>62.290001</td>\n",
       "      <td>76.610001</td>\n",
       "      <td>42.664749</td>\n",
       "      <td>19.250000</td>\n",
       "      <td>18.490000</td>\n",
       "    </tr>\n",
       "    <tr>\n",
       "      <th>2</th>\n",
       "      <td>2020-11-30</td>\n",
       "      <td>64.300003</td>\n",
       "      <td>70.400002</td>\n",
       "      <td>42.389999</td>\n",
       "      <td>19.000000</td>\n",
       "      <td>17.750000</td>\n",
       "    </tr>\n",
       "    <tr>\n",
       "      <th>3</th>\n",
       "      <td>2020-12-01</td>\n",
       "      <td>64.019997</td>\n",
       "      <td>69.760002</td>\n",
       "      <td>42.389999</td>\n",
       "      <td>18.170000</td>\n",
       "      <td>17.150000</td>\n",
       "    </tr>\n",
       "    <tr>\n",
       "      <th>4</th>\n",
       "      <td>2020-12-02</td>\n",
       "      <td>64.529999</td>\n",
       "      <td>68.500000</td>\n",
       "      <td>41.895451</td>\n",
       "      <td>18.690001</td>\n",
       "      <td>17.120001</td>\n",
       "    </tr>\n",
       "    <tr>\n",
       "      <th>...</th>\n",
       "      <td>...</td>\n",
       "      <td>...</td>\n",
       "      <td>...</td>\n",
       "      <td>...</td>\n",
       "      <td>...</td>\n",
       "      <td>...</td>\n",
       "    </tr>\n",
       "    <tr>\n",
       "      <th>449</th>\n",
       "      <td>2022-09-19</td>\n",
       "      <td>79.660004</td>\n",
       "      <td>17.420000</td>\n",
       "      <td>32.099998</td>\n",
       "      <td>10.450000</td>\n",
       "      <td>3.220000</td>\n",
       "    </tr>\n",
       "    <tr>\n",
       "      <th>450</th>\n",
       "      <td>2022-09-20</td>\n",
       "      <td>80.809998</td>\n",
       "      <td>17.389999</td>\n",
       "      <td>31.580000</td>\n",
       "      <td>10.360000</td>\n",
       "      <td>3.190000</td>\n",
       "    </tr>\n",
       "    <tr>\n",
       "      <th>451</th>\n",
       "      <td>2022-09-21</td>\n",
       "      <td>79.500000</td>\n",
       "      <td>17.510000</td>\n",
       "      <td>30.780001</td>\n",
       "      <td>10.550000</td>\n",
       "      <td>3.350000</td>\n",
       "    </tr>\n",
       "    <tr>\n",
       "      <th>452</th>\n",
       "      <td>2022-09-22</td>\n",
       "      <td>78.250000</td>\n",
       "      <td>17.240000</td>\n",
       "      <td>30.170000</td>\n",
       "      <td>10.680000</td>\n",
       "      <td>3.360000</td>\n",
       "    </tr>\n",
       "    <tr>\n",
       "      <th>453</th>\n",
       "      <td>2022-09-23</td>\n",
       "      <td>78.720001</td>\n",
       "      <td>17.530001</td>\n",
       "      <td>29.730000</td>\n",
       "      <td>11.160000</td>\n",
       "      <td>3.350000</td>\n",
       "    </tr>\n",
       "  </tbody>\n",
       "</table>\n",
       "<p>454 rows × 6 columns</p>\n",
       "</div>"
      ],
      "text/plain": [
       "           Date      PETZ3  AMERICANAS  VIA VAREJO     AMAZON      APPLE\n",
       "0    2020-11-26  62.270000   75.750000   42.115250  19.000000  19.209999\n",
       "1    2020-11-27  62.290001   76.610001   42.664749  19.250000  18.490000\n",
       "2    2020-11-30  64.300003   70.400002   42.389999  19.000000  17.750000\n",
       "3    2020-12-01  64.019997   69.760002   42.389999  18.170000  17.150000\n",
       "4    2020-12-02  64.529999   68.500000   41.895451  18.690001  17.120001\n",
       "..          ...        ...         ...         ...        ...        ...\n",
       "449  2022-09-19  79.660004   17.420000   32.099998  10.450000   3.220000\n",
       "450  2022-09-20  80.809998   17.389999   31.580000  10.360000   3.190000\n",
       "451  2022-09-21  79.500000   17.510000   30.780001  10.550000   3.350000\n",
       "452  2022-09-22  78.250000   17.240000   30.170000  10.680000   3.360000\n",
       "453  2022-09-23  78.720001   17.530001   29.730000  11.160000   3.350000\n",
       "\n",
       "[454 rows x 6 columns]"
      ]
     },
     "execution_count": 29,
     "metadata": {},
     "output_type": "execute_result"
    }
   ],
   "source": [
    "ação_novo"
   ]
  },
  {
   "cell_type": "code",
   "execution_count": 30,
   "metadata": {},
   "outputs": [
    {
     "data": {
      "image/png": "[encoded data removed]",
      "text/plain": [
       "<Figure size 1000x5000 with 5 Axes>"
      ]
     },
     "metadata": {},
     "output_type": "display_data"
    }
   ],
   "source": [
    "plt.figure(figsize=(10,50))\n",
    "i = 1\n",
    "for i in np.arange(1, len(ação_novo.columns)):\n",
    "  plt.subplot(7,1, i+1)\n",
    "  sns.histplot(ação_novo[ação_novo.columns[i]], kde=True)\n",
    "  plt.title(ação_novo.columns[i])"
   ]
  },
  {
   "cell_type": "code",
   "execution_count": 31,
   "metadata": {},
   "outputs": [],
   "source": [
    "# Normalization of data"
   ]
  },
  {
   "cell_type": "code",
   "execution_count": 32,
   "metadata": {},
   "outputs": [],
   "source": [
    "ação_normalizada = ação_novo.copy()\n",
    "for i in ação_normalizada.columns[1:]:\n",
    "  ação_normalizada[i] = ação_normalizada[i]/ ação_normalizada[i][0]"
   ]
  },
  {
   "cell_type": "code",
   "execution_count": 33,
   "metadata": {},
   "outputs": [
    {
     "data": {
      "text/html": [
       "<div>\n",
       "<style scoped>\n",
       "    .dataframe tbody tr th:only-of-type {\n",
       "        vertical-align: middle;\n",
       "    }\n",
       "\n",
       "    .dataframe tbody tr th {\n",
       "        vertical-align: top;\n",
       "    }\n",
       "\n",
       "    .dataframe thead th {\n",
       "        text-align: right;\n",
       "    }\n",
       "</style>\n",
       "<table border=\"1\" class=\"dataframe\">\n",
       "  <thead>\n",
       "    <tr style=\"text-align: right;\">\n",
       "      <th></th>\n",
       "      <th>Date</th>\n",
       "      <th>PETZ3</th>\n",
       "      <th>AMERICANAS</th>\n",
       "      <th>VIA VAREJO</th>\n",
       "      <th>AMAZON</th>\n",
       "      <th>APPLE</th>\n",
       "    </tr>\n",
       "  </thead>\n",
       "  <tbody>\n",
       "    <tr>\n",
       "      <th>0</th>\n",
       "      <td>2020-11-26</td>\n",
       "      <td>1.000000</td>\n",
       "      <td>1.000000</td>\n",
       "      <td>1.000000</td>\n",
       "      <td>1.000000</td>\n",
       "      <td>1.000000</td>\n",
       "    </tr>\n",
       "    <tr>\n",
       "      <th>1</th>\n",
       "      <td>2020-11-27</td>\n",
       "      <td>1.000321</td>\n",
       "      <td>1.011353</td>\n",
       "      <td>1.013048</td>\n",
       "      <td>1.013158</td>\n",
       "      <td>0.962520</td>\n",
       "    </tr>\n",
       "    <tr>\n",
       "      <th>2</th>\n",
       "      <td>2020-11-30</td>\n",
       "      <td>1.032600</td>\n",
       "      <td>0.929373</td>\n",
       "      <td>1.006524</td>\n",
       "      <td>1.000000</td>\n",
       "      <td>0.923998</td>\n",
       "    </tr>\n",
       "    <tr>\n",
       "      <th>3</th>\n",
       "      <td>2020-12-01</td>\n",
       "      <td>1.028103</td>\n",
       "      <td>0.920924</td>\n",
       "      <td>1.006524</td>\n",
       "      <td>0.956316</td>\n",
       "      <td>0.892764</td>\n",
       "    </tr>\n",
       "    <tr>\n",
       "      <th>4</th>\n",
       "      <td>2020-12-02</td>\n",
       "      <td>1.036294</td>\n",
       "      <td>0.904290</td>\n",
       "      <td>0.994781</td>\n",
       "      <td>0.983684</td>\n",
       "      <td>0.891203</td>\n",
       "    </tr>\n",
       "    <tr>\n",
       "      <th>...</th>\n",
       "      <td>...</td>\n",
       "      <td>...</td>\n",
       "      <td>...</td>\n",
       "      <td>...</td>\n",
       "      <td>...</td>\n",
       "      <td>...</td>\n",
       "    </tr>\n",
       "    <tr>\n",
       "      <th>449</th>\n",
       "      <td>2022-09-19</td>\n",
       "      <td>1.279268</td>\n",
       "      <td>0.229967</td>\n",
       "      <td>0.762194</td>\n",
       "      <td>0.550000</td>\n",
       "      <td>0.167621</td>\n",
       "    </tr>\n",
       "    <tr>\n",
       "      <th>450</th>\n",
       "      <td>2022-09-20</td>\n",
       "      <td>1.297736</td>\n",
       "      <td>0.229571</td>\n",
       "      <td>0.749847</td>\n",
       "      <td>0.545263</td>\n",
       "      <td>0.166059</td>\n",
       "    </tr>\n",
       "    <tr>\n",
       "      <th>451</th>\n",
       "      <td>2022-09-21</td>\n",
       "      <td>1.276698</td>\n",
       "      <td>0.231155</td>\n",
       "      <td>0.730852</td>\n",
       "      <td>0.555263</td>\n",
       "      <td>0.174388</td>\n",
       "    </tr>\n",
       "    <tr>\n",
       "      <th>452</th>\n",
       "      <td>2022-09-22</td>\n",
       "      <td>1.256624</td>\n",
       "      <td>0.227591</td>\n",
       "      <td>0.716368</td>\n",
       "      <td>0.562105</td>\n",
       "      <td>0.174909</td>\n",
       "    </tr>\n",
       "    <tr>\n",
       "      <th>453</th>\n",
       "      <td>2022-09-23</td>\n",
       "      <td>1.264172</td>\n",
       "      <td>0.231419</td>\n",
       "      <td>0.705920</td>\n",
       "      <td>0.587368</td>\n",
       "      <td>0.174388</td>\n",
       "    </tr>\n",
       "  </tbody>\n",
       "</table>\n",
       "<p>454 rows × 6 columns</p>\n",
       "</div>"
      ],
      "text/plain": [
       "           Date     PETZ3  AMERICANAS  VIA VAREJO    AMAZON     APPLE\n",
       "0    2020-11-26  1.000000    1.000000    1.000000  1.000000  1.000000\n",
       "1    2020-11-27  1.000321    1.011353    1.013048  1.013158  0.962520\n",
       "2    2020-11-30  1.032600    0.929373    1.006524  1.000000  0.923998\n",
       "3    2020-12-01  1.028103    0.920924    1.006524  0.956316  0.892764\n",
       "4    2020-12-02  1.036294    0.904290    0.994781  0.983684  0.891203\n",
       "..          ...       ...         ...         ...       ...       ...\n",
       "449  2022-09-19  1.279268    0.229967    0.762194  0.550000  0.167621\n",
       "450  2022-09-20  1.297736    0.229571    0.749847  0.545263  0.166059\n",
       "451  2022-09-21  1.276698    0.231155    0.730852  0.555263  0.174388\n",
       "452  2022-09-22  1.256624    0.227591    0.716368  0.562105  0.174909\n",
       "453  2022-09-23  1.264172    0.231419    0.705920  0.587368  0.174388\n",
       "\n",
       "[454 rows x 6 columns]"
      ]
     },
     "execution_count": 33,
     "metadata": {},
     "output_type": "execute_result"
    }
   ],
   "source": [
    "ação_normalizada"
   ]
  },
  {
   "cell_type": "code",
   "execution_count": 34,
   "metadata": {},
   "outputs": [
    {
     "data": {
      "text/plain": [
       "<AxesSubplot:title={'center':'Histograma novo'}, xlabel='Date'>"
      ]
     },
     "execution_count": 34,
     "metadata": {},
     "output_type": "execute_result"
    },
    {
     "data": {
      "image/png": "[encoded data removed]",
      "text/plain": [
       "<Figure size 1500x700 with 1 Axes>"
      ]
     },
     "metadata": {},
     "output_type": "display_data"
    }
   ],
   "source": [
    "ação_normalizada.plot(x= 'Date', figsize= (15,7), title= 'Histograma novo')"
   ]
  },
  {
   "cell_type": "code",
   "execution_count": 35,
   "metadata": {},
   "outputs": [
    {
     "name": "stdout",
     "output_type": "stream",
     "text": [
      "Requirement already up-to-date: nbformat in c:\\users\\silvio\\appdata\\local\\programs\\python\\python37\\lib\\site-packages (5.6.0)\n",
      "Requirement already satisfied, skipping upgrade: fastjsonschema in c:\\users\\silvio\\appdata\\local\\programs\\python\\python37\\lib\\site-packages (from nbformat) (2.16.2)\n",
      "Requirement already satisfied, skipping upgrade: jupyter-core in c:\\users\\silvio\\appdata\\local\\programs\\python\\python37\\lib\\site-packages (from nbformat) (4.11.1)\n",
      "Requirement already satisfied, skipping upgrade: traitlets>=5.1 in c:\\users\\silvio\\appdata\\local\\programs\\python\\python37\\lib\\site-packages (from nbformat) (5.4.0)\n",
      "Requirement already satisfied, skipping upgrade: jsonschema>=2.6 in c:\\users\\silvio\\appdata\\local\\programs\\python\\python37\\lib\\site-packages (from nbformat) (4.16.0)\n",
      "Requirement already satisfied, skipping upgrade: pywin32>=1.0; sys_platform == \"win32\" and platform_python_implementation != \"PyPy\" in c:\\users\\silvio\\appdata\\local\\programs\\python\\python37\\lib\\site-packages (from jupyter-core->nbformat) (304)\n",
      "Requirement already satisfied, skipping upgrade: pkgutil-resolve-name>=1.3.10; python_version < \"3.9\" in c:\\users\\silvio\\appdata\\local\\programs\\python\\python37\\lib\\site-packages (from jsonschema>=2.6->nbformat) (1.3.10)\n",
      "Requirement already satisfied, skipping upgrade: pyrsistent!=0.17.0,!=0.17.1,!=0.17.2,>=0.14.0 in c:\\users\\silvio\\appdata\\local\\programs\\python\\python37\\lib\\site-packages (from jsonschema>=2.6->nbformat) (0.18.1)\n",
      "Requirement already satisfied, skipping upgrade: importlib-resources>=1.4.0; python_version < \"3.9\" in c:\\users\\silvio\\appdata\\local\\programs\\python\\python37\\lib\\site-packages (from jsonschema>=2.6->nbformat) (5.9.0)\n",
      "Requirement already satisfied, skipping upgrade: typing-extensions; python_version < \"3.8\" in c:\\users\\silvio\\appdata\\local\\programs\\python\\python37\\lib\\site-packages (from jsonschema>=2.6->nbformat) (4.2.0)\n",
      "Requirement already satisfied, skipping upgrade: attrs>=17.4.0 in c:\\users\\silvio\\appdata\\local\\programs\\python\\python37\\lib\\site-packages (from jsonschema>=2.6->nbformat) (22.1.0)\n",
      "Requirement already satisfied, skipping upgrade: importlib-metadata; python_version < \"3.8\" in c:\\users\\silvio\\appdata\\local\\programs\\python\\python37\\lib\\site-packages (from jsonschema>=2.6->nbformat) (4.11.3)\n",
      "Requirement already satisfied, skipping upgrade: zipp>=3.1.0; python_version < \"3.10\" in c:\\users\\silvio\\appdata\\local\\programs\\python\\python37\\lib\\site-packages (from importlib-resources>=1.4.0; python_version < \"3.9\"->jsonschema>=2.6->nbformat) (3.8.0)\n",
      "Note: you may need to restart the kernel to use updated packages.\n"
     ]
    },
    {
     "name": "stderr",
     "output_type": "stream",
     "text": [
      "WARNING: You are using pip version 19.2.3, however version 22.2.2 is available.\n",
      "You should consider upgrading via the 'python -m pip install --upgrade pip' command.\n"
     ]
    }
   ],
   "source": [
    "pip install --upgrade nbformat\n"
   ]
  },
  {
   "cell_type": "code",
   "execution_count": 37,
   "metadata": {},
   "outputs": [
    {
     "data": {
      "text/html": [
       "<div>\n",
       "<style scoped>\n",
       "    .dataframe tbody tr th:only-of-type {\n",
       "        vertical-align: middle;\n",
       "    }\n",
       "\n",
       "    .dataframe tbody tr th {\n",
       "        vertical-align: top;\n",
       "    }\n",
       "\n",
       "    .dataframe thead th {\n",
       "        text-align: right;\n",
       "    }\n",
       "</style>\n",
       "<table border=\"1\" class=\"dataframe\">\n",
       "  <thead>\n",
       "    <tr style=\"text-align: right;\">\n",
       "      <th></th>\n",
       "      <th>Date</th>\n",
       "      <th>PETZ3</th>\n",
       "      <th>AMERICANAS</th>\n",
       "      <th>VIA VAREJO</th>\n",
       "      <th>AMAZON</th>\n",
       "      <th>APPLE</th>\n",
       "    </tr>\n",
       "  </thead>\n",
       "  <tbody>\n",
       "    <tr>\n",
       "      <th>0</th>\n",
       "      <td>2020-11-26</td>\n",
       "      <td>1.000000</td>\n",
       "      <td>1.000000</td>\n",
       "      <td>1.000000</td>\n",
       "      <td>1.000000</td>\n",
       "      <td>1.000000</td>\n",
       "    </tr>\n",
       "    <tr>\n",
       "      <th>1</th>\n",
       "      <td>2020-11-27</td>\n",
       "      <td>1.000321</td>\n",
       "      <td>1.011353</td>\n",
       "      <td>1.013048</td>\n",
       "      <td>1.013158</td>\n",
       "      <td>0.962520</td>\n",
       "    </tr>\n",
       "    <tr>\n",
       "      <th>2</th>\n",
       "      <td>2020-11-30</td>\n",
       "      <td>1.032600</td>\n",
       "      <td>0.929373</td>\n",
       "      <td>1.006524</td>\n",
       "      <td>1.000000</td>\n",
       "      <td>0.923998</td>\n",
       "    </tr>\n",
       "    <tr>\n",
       "      <th>3</th>\n",
       "      <td>2020-12-01</td>\n",
       "      <td>1.028103</td>\n",
       "      <td>0.920924</td>\n",
       "      <td>1.006524</td>\n",
       "      <td>0.956316</td>\n",
       "      <td>0.892764</td>\n",
       "    </tr>\n",
       "    <tr>\n",
       "      <th>4</th>\n",
       "      <td>2020-12-02</td>\n",
       "      <td>1.036294</td>\n",
       "      <td>0.904290</td>\n",
       "      <td>0.994781</td>\n",
       "      <td>0.983684</td>\n",
       "      <td>0.891203</td>\n",
       "    </tr>\n",
       "    <tr>\n",
       "      <th>...</th>\n",
       "      <td>...</td>\n",
       "      <td>...</td>\n",
       "      <td>...</td>\n",
       "      <td>...</td>\n",
       "      <td>...</td>\n",
       "      <td>...</td>\n",
       "    </tr>\n",
       "    <tr>\n",
       "      <th>449</th>\n",
       "      <td>2022-09-19</td>\n",
       "      <td>1.279268</td>\n",
       "      <td>0.229967</td>\n",
       "      <td>0.762194</td>\n",
       "      <td>0.550000</td>\n",
       "      <td>0.167621</td>\n",
       "    </tr>\n",
       "    <tr>\n",
       "      <th>450</th>\n",
       "      <td>2022-09-20</td>\n",
       "      <td>1.297736</td>\n",
       "      <td>0.229571</td>\n",
       "      <td>0.749847</td>\n",
       "      <td>0.545263</td>\n",
       "      <td>0.166059</td>\n",
       "    </tr>\n",
       "    <tr>\n",
       "      <th>451</th>\n",
       "      <td>2022-09-21</td>\n",
       "      <td>1.276698</td>\n",
       "      <td>0.231155</td>\n",
       "      <td>0.730852</td>\n",
       "      <td>0.555263</td>\n",
       "      <td>0.174388</td>\n",
       "    </tr>\n",
       "    <tr>\n",
       "      <th>452</th>\n",
       "      <td>2022-09-22</td>\n",
       "      <td>1.256624</td>\n",
       "      <td>0.227591</td>\n",
       "      <td>0.716368</td>\n",
       "      <td>0.562105</td>\n",
       "      <td>0.174909</td>\n",
       "    </tr>\n",
       "    <tr>\n",
       "      <th>453</th>\n",
       "      <td>2022-09-23</td>\n",
       "      <td>1.264172</td>\n",
       "      <td>0.231419</td>\n",
       "      <td>0.705920</td>\n",
       "      <td>0.587368</td>\n",
       "      <td>0.174388</td>\n",
       "    </tr>\n",
       "  </tbody>\n",
       "</table>\n",
       "<p>454 rows × 6 columns</p>\n",
       "</div>"
      ],
      "text/plain": [
       "           Date     PETZ3  AMERICANAS  VIA VAREJO    AMAZON     APPLE\n",
       "0    2020-11-26  1.000000    1.000000    1.000000  1.000000  1.000000\n",
       "1    2020-11-27  1.000321    1.011353    1.013048  1.013158  0.962520\n",
       "2    2020-11-30  1.032600    0.929373    1.006524  1.000000  0.923998\n",
       "3    2020-12-01  1.028103    0.920924    1.006524  0.956316  0.892764\n",
       "4    2020-12-02  1.036294    0.904290    0.994781  0.983684  0.891203\n",
       "..          ...       ...         ...         ...       ...       ...\n",
       "449  2022-09-19  1.279268    0.229967    0.762194  0.550000  0.167621\n",
       "450  2022-09-20  1.297736    0.229571    0.749847  0.545263  0.166059\n",
       "451  2022-09-21  1.276698    0.231155    0.730852  0.555263  0.174388\n",
       "452  2022-09-22  1.256624    0.227591    0.716368  0.562105  0.174909\n",
       "453  2022-09-23  1.264172    0.231419    0.705920  0.587368  0.174388\n",
       "\n",
       "[454 rows x 6 columns]"
      ]
     },
     "execution_count": 37,
     "metadata": {},
     "output_type": "execute_result"
    }
   ],
   "source": [
    "ação_normalizada"
   ]
  },
  {
   "cell_type": "code",
   "execution_count": 38,
   "metadata": {},
   "outputs": [
    {
     "data": {
      "text/plain": [
       "-76.85808490211814"
      ]
     },
     "execution_count": 38,
     "metadata": {},
     "output_type": "execute_result"
    }
   ],
   "source": [
    "((ação_normalizada['AMERICANAS'][len(ação_normalizada) -1] -  ação_normalizada['AMERICANAS'][0])/ ação_normalizada['AMERICANAS'] [0]) *100"
   ]
  },
  {
   "cell_type": "code",
   "execution_count": 39,
   "metadata": {},
   "outputs": [
    {
     "data": {
      "text/plain": [
       "26.417216383508958"
      ]
     },
     "execution_count": 39,
     "metadata": {},
     "output_type": "execute_result"
    }
   ],
   "source": [
    "((ação_normalizada['PETZ3'][len(ação_normalizada) -1] -  ação_normalizada['PETZ3'][0])/ ação_normalizada['PETZ3'] [0]) *100"
   ]
  },
  {
   "cell_type": "code",
   "execution_count": 40,
   "metadata": {},
   "outputs": [
    {
     "data": {
      "text/plain": [
       "-29.407994014633708"
      ]
     },
     "execution_count": 40,
     "metadata": {},
     "output_type": "execute_result"
    }
   ],
   "source": [
    "((ação_normalizada['VIA VAREJO'][len(ação_normalizada) -1] -  ação_normalizada['VIA VAREJO'][0])/ ação_normalizada['VIA VAREJO'] [0]) *100"
   ]
  },
  {
   "cell_type": "code",
   "execution_count": 41,
   "metadata": {},
   "outputs": [
    {
     "data": {
      "text/plain": [
       "-41.263158697831"
      ]
     },
     "execution_count": 41,
     "metadata": {},
     "output_type": "execute_result"
    }
   ],
   "source": [
    "((ação_normalizada['AMAZON'][len(ação_normalizada) -1] -  ação_normalizada['AMAZON'][0])/ ação_normalizada['AMAZON'] [0]) *100"
   ]
  },
  {
   "cell_type": "code",
   "execution_count": 42,
   "metadata": {},
   "outputs": [
    {
     "data": {
      "text/plain": [
       "-82.56116572467536"
      ]
     },
     "execution_count": 42,
     "metadata": {},
     "output_type": "execute_result"
    }
   ],
   "source": [
    "((ação_normalizada['APPLE'][len(ação_normalizada) -1] -  ação_normalizada['APPLE'][0])/ ação_normalizada['APPLE'] [0]) *100"
   ]
  },
  {
   "cell_type": "code",
   "execution_count": null,
   "metadata": {},
   "outputs": [],
   "source": [
    "# Here you can see how much the application value in a determined time. This case the value was 0.2"
   ]
  },
  {
   "cell_type": "code",
   "execution_count": 43,
   "metadata": {},
   "outputs": [
    {
     "data": {
      "text/plain": [
       "0      1.000000\n",
       "1      1.000321\n",
       "2      1.032600\n",
       "3      1.028103\n",
       "4      1.036294\n",
       "         ...   \n",
       "449    1.279268\n",
       "450    1.297736\n",
       "451    1.276698\n",
       "452    1.256624\n",
       "453    1.264172\n",
       "Name: PETZ3, Length: 454, dtype: float64"
      ]
     },
     "execution_count": 43,
     "metadata": {},
     "output_type": "execute_result"
    }
   ],
   "source": [
    "ação_normalizada['PETZ3']"
   ]
  },
  {
   "cell_type": "code",
   "execution_count": 44,
   "metadata": {},
   "outputs": [
    {
     "data": {
      "text/plain": [
       "0           NaN\n",
       "1      1.000000\n",
       "2      1.000321\n",
       "3      1.032600\n",
       "4      1.028103\n",
       "         ...   \n",
       "449    1.272202\n",
       "450    1.279268\n",
       "451    1.297736\n",
       "452    1.276698\n",
       "453    1.256624\n",
       "Name: PETZ3, Length: 454, dtype: float64"
      ]
     },
     "execution_count": 44,
     "metadata": {},
     "output_type": "execute_result"
    }
   ],
   "source": [
    "ação_normalizada['PETZ3'].shift(1)"
   ]
  },
  {
   "cell_type": "code",
   "execution_count": 45,
   "metadata": {},
   "outputs": [],
   "source": [
    "ação_normalizada['RS_PETZ3'] = (ação_normalizada['PETZ3']/ ação_normalizada['PETZ3'].shift(1)) - 1"
   ]
  },
  {
   "cell_type": "code",
   "execution_count": 46,
   "metadata": {},
   "outputs": [
    {
     "data": {
      "text/html": [
       "<div>\n",
       "<style scoped>\n",
       "    .dataframe tbody tr th:only-of-type {\n",
       "        vertical-align: middle;\n",
       "    }\n",
       "\n",
       "    .dataframe tbody tr th {\n",
       "        vertical-align: top;\n",
       "    }\n",
       "\n",
       "    .dataframe thead th {\n",
       "        text-align: right;\n",
       "    }\n",
       "</style>\n",
       "<table border=\"1\" class=\"dataframe\">\n",
       "  <thead>\n",
       "    <tr style=\"text-align: right;\">\n",
       "      <th></th>\n",
       "      <th>Date</th>\n",
       "      <th>PETZ3</th>\n",
       "      <th>AMERICANAS</th>\n",
       "      <th>VIA VAREJO</th>\n",
       "      <th>AMAZON</th>\n",
       "      <th>APPLE</th>\n",
       "      <th>RS_PETZ3</th>\n",
       "    </tr>\n",
       "  </thead>\n",
       "  <tbody>\n",
       "    <tr>\n",
       "      <th>0</th>\n",
       "      <td>2020-11-26</td>\n",
       "      <td>1.000000</td>\n",
       "      <td>1.000000</td>\n",
       "      <td>1.000000</td>\n",
       "      <td>1.000000</td>\n",
       "      <td>1.000000</td>\n",
       "      <td>NaN</td>\n",
       "    </tr>\n",
       "    <tr>\n",
       "      <th>1</th>\n",
       "      <td>2020-11-27</td>\n",
       "      <td>1.000321</td>\n",
       "      <td>1.011353</td>\n",
       "      <td>1.013048</td>\n",
       "      <td>1.013158</td>\n",
       "      <td>0.962520</td>\n",
       "      <td>0.000321</td>\n",
       "    </tr>\n",
       "    <tr>\n",
       "      <th>2</th>\n",
       "      <td>2020-11-30</td>\n",
       "      <td>1.032600</td>\n",
       "      <td>0.929373</td>\n",
       "      <td>1.006524</td>\n",
       "      <td>1.000000</td>\n",
       "      <td>0.923998</td>\n",
       "      <td>0.032268</td>\n",
       "    </tr>\n",
       "    <tr>\n",
       "      <th>3</th>\n",
       "      <td>2020-12-01</td>\n",
       "      <td>1.028103</td>\n",
       "      <td>0.920924</td>\n",
       "      <td>1.006524</td>\n",
       "      <td>0.956316</td>\n",
       "      <td>0.892764</td>\n",
       "      <td>-0.004355</td>\n",
       "    </tr>\n",
       "    <tr>\n",
       "      <th>4</th>\n",
       "      <td>2020-12-02</td>\n",
       "      <td>1.036294</td>\n",
       "      <td>0.904290</td>\n",
       "      <td>0.994781</td>\n",
       "      <td>0.983684</td>\n",
       "      <td>0.891203</td>\n",
       "      <td>0.007966</td>\n",
       "    </tr>\n",
       "    <tr>\n",
       "      <th>...</th>\n",
       "      <td>...</td>\n",
       "      <td>...</td>\n",
       "      <td>...</td>\n",
       "      <td>...</td>\n",
       "      <td>...</td>\n",
       "      <td>...</td>\n",
       "      <td>...</td>\n",
       "    </tr>\n",
       "    <tr>\n",
       "      <th>449</th>\n",
       "      <td>2022-09-19</td>\n",
       "      <td>1.279268</td>\n",
       "      <td>0.229967</td>\n",
       "      <td>0.762194</td>\n",
       "      <td>0.550000</td>\n",
       "      <td>0.167621</td>\n",
       "      <td>0.005554</td>\n",
       "    </tr>\n",
       "    <tr>\n",
       "      <th>450</th>\n",
       "      <td>2022-09-20</td>\n",
       "      <td>1.297736</td>\n",
       "      <td>0.229571</td>\n",
       "      <td>0.749847</td>\n",
       "      <td>0.545263</td>\n",
       "      <td>0.166059</td>\n",
       "      <td>0.014436</td>\n",
       "    </tr>\n",
       "    <tr>\n",
       "      <th>451</th>\n",
       "      <td>2022-09-21</td>\n",
       "      <td>1.276698</td>\n",
       "      <td>0.231155</td>\n",
       "      <td>0.730852</td>\n",
       "      <td>0.555263</td>\n",
       "      <td>0.174388</td>\n",
       "      <td>-0.016211</td>\n",
       "    </tr>\n",
       "    <tr>\n",
       "      <th>452</th>\n",
       "      <td>2022-09-22</td>\n",
       "      <td>1.256624</td>\n",
       "      <td>0.227591</td>\n",
       "      <td>0.716368</td>\n",
       "      <td>0.562105</td>\n",
       "      <td>0.174909</td>\n",
       "      <td>-0.015723</td>\n",
       "    </tr>\n",
       "    <tr>\n",
       "      <th>453</th>\n",
       "      <td>2022-09-23</td>\n",
       "      <td>1.264172</td>\n",
       "      <td>0.231419</td>\n",
       "      <td>0.705920</td>\n",
       "      <td>0.587368</td>\n",
       "      <td>0.174388</td>\n",
       "      <td>0.006006</td>\n",
       "    </tr>\n",
       "  </tbody>\n",
       "</table>\n",
       "<p>454 rows × 7 columns</p>\n",
       "</div>"
      ],
      "text/plain": [
       "           Date     PETZ3  AMERICANAS  VIA VAREJO    AMAZON     APPLE  \\\n",
       "0    2020-11-26  1.000000    1.000000    1.000000  1.000000  1.000000   \n",
       "1    2020-11-27  1.000321    1.011353    1.013048  1.013158  0.962520   \n",
       "2    2020-11-30  1.032600    0.929373    1.006524  1.000000  0.923998   \n",
       "3    2020-12-01  1.028103    0.920924    1.006524  0.956316  0.892764   \n",
       "4    2020-12-02  1.036294    0.904290    0.994781  0.983684  0.891203   \n",
       "..          ...       ...         ...         ...       ...       ...   \n",
       "449  2022-09-19  1.279268    0.229967    0.762194  0.550000  0.167621   \n",
       "450  2022-09-20  1.297736    0.229571    0.749847  0.545263  0.166059   \n",
       "451  2022-09-21  1.276698    0.231155    0.730852  0.555263  0.174388   \n",
       "452  2022-09-22  1.256624    0.227591    0.716368  0.562105  0.174909   \n",
       "453  2022-09-23  1.264172    0.231419    0.705920  0.587368  0.174388   \n",
       "\n",
       "     RS_PETZ3  \n",
       "0         NaN  \n",
       "1    0.000321  \n",
       "2    0.032268  \n",
       "3   -0.004355  \n",
       "4    0.007966  \n",
       "..        ...  \n",
       "449  0.005554  \n",
       "450  0.014436  \n",
       "451 -0.016211  \n",
       "452 -0.015723  \n",
       "453  0.006006  \n",
       "\n",
       "[454 rows x 7 columns]"
      ]
     },
     "execution_count": 46,
     "metadata": {},
     "output_type": "execute_result"
    }
   ],
   "source": [
    "ação_normalizada"
   ]
  },
  {
   "cell_type": "code",
   "execution_count": 47,
   "metadata": {},
   "outputs": [
    {
     "data": {
      "image/png": "[encoded data removed]",
      "text/plain": [
       "<Figure size 640x480 with 1 Axes>"
      ]
     },
     "metadata": {},
     "output_type": "display_data"
    }
   ],
   "source": [
    "ação_normalizada['RS_PETZ3'].plot();"
   ]
  },
  {
   "cell_type": "code",
   "execution_count": 48,
   "metadata": {},
   "outputs": [
    {
     "data": {
      "text/plain": [
       "17.08895292568678"
      ]
     },
     "execution_count": 48,
     "metadata": {},
     "output_type": "execute_result"
    }
   ],
   "source": [
    "(ação_normalizada['RS_PETZ3'].mean() *246) *100"
   ]
  },
  {
   "cell_type": "code",
   "execution_count": null,
   "metadata": {},
   "outputs": [],
   "source": [
    "#Data normalization"
   ]
  },
  {
   "cell_type": "code",
   "execution_count": 49,
   "metadata": {},
   "outputs": [],
   "source": [
    "ação_normalizada['RS_AMERICANAS'] = (ação_normalizada['AMERICANAS']/ ação_normalizada['AMERICANAS'].shift(1)) - 1\n",
    "ação_normalizada['RS_VIA'] = (ação_normalizada['VIA VAREJO']/ ação_normalizada['VIA VAREJO'].shift(1)) - 1\n",
    "ação_normalizada['RS_AMAZON'] = (ação_normalizada['AMAZON']/ ação_normalizada['AMAZON'].shift(1)) - 1\n",
    "ação_normalizada['RS_APPLE'] = (ação_normalizada['APPLE']/ ação_normalizada['APPLE'].shift(1)) - 1"
   ]
  },
  {
   "cell_type": "code",
   "execution_count": 50,
   "metadata": {},
   "outputs": [
    {
     "data": {
      "text/html": [
       "<div>\n",
       "<style scoped>\n",
       "    .dataframe tbody tr th:only-of-type {\n",
       "        vertical-align: middle;\n",
       "    }\n",
       "\n",
       "    .dataframe tbody tr th {\n",
       "        vertical-align: top;\n",
       "    }\n",
       "\n",
       "    .dataframe thead th {\n",
       "        text-align: right;\n",
       "    }\n",
       "</style>\n",
       "<table border=\"1\" class=\"dataframe\">\n",
       "  <thead>\n",
       "    <tr style=\"text-align: right;\">\n",
       "      <th></th>\n",
       "      <th>Date</th>\n",
       "      <th>PETZ3</th>\n",
       "      <th>AMERICANAS</th>\n",
       "      <th>VIA VAREJO</th>\n",
       "      <th>AMAZON</th>\n",
       "      <th>APPLE</th>\n",
       "      <th>RS_PETZ3</th>\n",
       "      <th>RS_AMERICANAS</th>\n",
       "      <th>RS_VIA</th>\n",
       "      <th>RS_AMAZON</th>\n",
       "      <th>RS_APPLE</th>\n",
       "    </tr>\n",
       "  </thead>\n",
       "  <tbody>\n",
       "    <tr>\n",
       "      <th>0</th>\n",
       "      <td>2020-11-26</td>\n",
       "      <td>1.000000</td>\n",
       "      <td>1.000000</td>\n",
       "      <td>1.000000</td>\n",
       "      <td>1.000000</td>\n",
       "      <td>1.000000</td>\n",
       "      <td>NaN</td>\n",
       "      <td>NaN</td>\n",
       "      <td>NaN</td>\n",
       "      <td>NaN</td>\n",
       "      <td>NaN</td>\n",
       "    </tr>\n",
       "    <tr>\n",
       "      <th>1</th>\n",
       "      <td>2020-11-27</td>\n",
       "      <td>1.000321</td>\n",
       "      <td>1.011353</td>\n",
       "      <td>1.013048</td>\n",
       "      <td>1.013158</td>\n",
       "      <td>0.962520</td>\n",
       "      <td>0.000321</td>\n",
       "      <td>0.011353</td>\n",
       "      <td>0.013048</td>\n",
       "      <td>0.013158</td>\n",
       "      <td>-0.037480</td>\n",
       "    </tr>\n",
       "    <tr>\n",
       "      <th>2</th>\n",
       "      <td>2020-11-30</td>\n",
       "      <td>1.032600</td>\n",
       "      <td>0.929373</td>\n",
       "      <td>1.006524</td>\n",
       "      <td>1.000000</td>\n",
       "      <td>0.923998</td>\n",
       "      <td>0.032268</td>\n",
       "      <td>-0.081060</td>\n",
       "      <td>-0.006440</td>\n",
       "      <td>-0.012987</td>\n",
       "      <td>-0.040022</td>\n",
       "    </tr>\n",
       "    <tr>\n",
       "      <th>3</th>\n",
       "      <td>2020-12-01</td>\n",
       "      <td>1.028103</td>\n",
       "      <td>0.920924</td>\n",
       "      <td>1.006524</td>\n",
       "      <td>0.956316</td>\n",
       "      <td>0.892764</td>\n",
       "      <td>-0.004355</td>\n",
       "      <td>-0.009091</td>\n",
       "      <td>0.000000</td>\n",
       "      <td>-0.043684</td>\n",
       "      <td>-0.033803</td>\n",
       "    </tr>\n",
       "    <tr>\n",
       "      <th>4</th>\n",
       "      <td>2020-12-02</td>\n",
       "      <td>1.036294</td>\n",
       "      <td>0.904290</td>\n",
       "      <td>0.994781</td>\n",
       "      <td>0.983684</td>\n",
       "      <td>0.891203</td>\n",
       "      <td>0.007966</td>\n",
       "      <td>-0.018062</td>\n",
       "      <td>-0.011667</td>\n",
       "      <td>0.028619</td>\n",
       "      <td>-0.001749</td>\n",
       "    </tr>\n",
       "    <tr>\n",
       "      <th>...</th>\n",
       "      <td>...</td>\n",
       "      <td>...</td>\n",
       "      <td>...</td>\n",
       "      <td>...</td>\n",
       "      <td>...</td>\n",
       "      <td>...</td>\n",
       "      <td>...</td>\n",
       "      <td>...</td>\n",
       "      <td>...</td>\n",
       "      <td>...</td>\n",
       "      <td>...</td>\n",
       "    </tr>\n",
       "    <tr>\n",
       "      <th>449</th>\n",
       "      <td>2022-09-19</td>\n",
       "      <td>1.279268</td>\n",
       "      <td>0.229967</td>\n",
       "      <td>0.762194</td>\n",
       "      <td>0.550000</td>\n",
       "      <td>0.167621</td>\n",
       "      <td>0.005554</td>\n",
       "      <td>0.055118</td>\n",
       "      <td>-0.007728</td>\n",
       "      <td>0.034653</td>\n",
       "      <td>0.028754</td>\n",
       "    </tr>\n",
       "    <tr>\n",
       "      <th>450</th>\n",
       "      <td>2022-09-20</td>\n",
       "      <td>1.297736</td>\n",
       "      <td>0.229571</td>\n",
       "      <td>0.749847</td>\n",
       "      <td>0.545263</td>\n",
       "      <td>0.166059</td>\n",
       "      <td>0.014436</td>\n",
       "      <td>-0.001722</td>\n",
       "      <td>-0.016199</td>\n",
       "      <td>-0.008612</td>\n",
       "      <td>-0.009317</td>\n",
       "    </tr>\n",
       "    <tr>\n",
       "      <th>451</th>\n",
       "      <td>2022-09-21</td>\n",
       "      <td>1.276698</td>\n",
       "      <td>0.231155</td>\n",
       "      <td>0.730852</td>\n",
       "      <td>0.555263</td>\n",
       "      <td>0.174388</td>\n",
       "      <td>-0.016211</td>\n",
       "      <td>0.006901</td>\n",
       "      <td>-0.025332</td>\n",
       "      <td>0.018340</td>\n",
       "      <td>0.050157</td>\n",
       "    </tr>\n",
       "    <tr>\n",
       "      <th>452</th>\n",
       "      <td>2022-09-22</td>\n",
       "      <td>1.256624</td>\n",
       "      <td>0.227591</td>\n",
       "      <td>0.716368</td>\n",
       "      <td>0.562105</td>\n",
       "      <td>0.174909</td>\n",
       "      <td>-0.015723</td>\n",
       "      <td>-0.015420</td>\n",
       "      <td>-0.019818</td>\n",
       "      <td>0.012322</td>\n",
       "      <td>0.002985</td>\n",
       "    </tr>\n",
       "    <tr>\n",
       "      <th>453</th>\n",
       "      <td>2022-09-23</td>\n",
       "      <td>1.264172</td>\n",
       "      <td>0.231419</td>\n",
       "      <td>0.705920</td>\n",
       "      <td>0.587368</td>\n",
       "      <td>0.174388</td>\n",
       "      <td>0.006006</td>\n",
       "      <td>0.016821</td>\n",
       "      <td>-0.014584</td>\n",
       "      <td>0.044944</td>\n",
       "      <td>-0.002976</td>\n",
       "    </tr>\n",
       "  </tbody>\n",
       "</table>\n",
       "<p>454 rows × 11 columns</p>\n",
       "</div>"
      ],
      "text/plain": [
       "           Date     PETZ3  AMERICANAS  VIA VAREJO    AMAZON     APPLE  \\\n",
       "0    2020-11-26  1.000000    1.000000    1.000000  1.000000  1.000000   \n",
       "1    2020-11-27  1.000321    1.011353    1.013048  1.013158  0.962520   \n",
       "2    2020-11-30  1.032600    0.929373    1.006524  1.000000  0.923998   \n",
       "3    2020-12-01  1.028103    0.920924    1.006524  0.956316  0.892764   \n",
       "4    2020-12-02  1.036294    0.904290    0.994781  0.983684  0.891203   \n",
       "..          ...       ...         ...         ...       ...       ...   \n",
       "449  2022-09-19  1.279268    0.229967    0.762194  0.550000  0.167621   \n",
       "450  2022-09-20  1.297736    0.229571    0.749847  0.545263  0.166059   \n",
       "451  2022-09-21  1.276698    0.231155    0.730852  0.555263  0.174388   \n",
       "452  2022-09-22  1.256624    0.227591    0.716368  0.562105  0.174909   \n",
       "453  2022-09-23  1.264172    0.231419    0.705920  0.587368  0.174388   \n",
       "\n",
       "     RS_PETZ3  RS_AMERICANAS    RS_VIA  RS_AMAZON  RS_APPLE  \n",
       "0         NaN            NaN       NaN        NaN       NaN  \n",
       "1    0.000321       0.011353  0.013048   0.013158 -0.037480  \n",
       "2    0.032268      -0.081060 -0.006440  -0.012987 -0.040022  \n",
       "3   -0.004355      -0.009091  0.000000  -0.043684 -0.033803  \n",
       "4    0.007966      -0.018062 -0.011667   0.028619 -0.001749  \n",
       "..        ...            ...       ...        ...       ...  \n",
       "449  0.005554       0.055118 -0.007728   0.034653  0.028754  \n",
       "450  0.014436      -0.001722 -0.016199  -0.008612 -0.009317  \n",
       "451 -0.016211       0.006901 -0.025332   0.018340  0.050157  \n",
       "452 -0.015723      -0.015420 -0.019818   0.012322  0.002985  \n",
       "453  0.006006       0.016821 -0.014584   0.044944 -0.002976  \n",
       "\n",
       "[454 rows x 11 columns]"
      ]
     },
     "execution_count": 50,
     "metadata": {},
     "output_type": "execute_result"
    }
   ],
   "source": [
    "ação_normalizada"
   ]
  },
  {
   "cell_type": "code",
   "execution_count": null,
   "metadata": {},
   "outputs": [],
   "source": [
    "# 246 == day of stock exchange is working on year\n",
    "# The result is the value or devalue"
   ]
  },
  {
   "cell_type": "code",
   "execution_count": 51,
   "metadata": {},
   "outputs": [
    {
     "data": {
      "text/plain": [
       "17.08895292568678"
      ]
     },
     "execution_count": 51,
     "metadata": {},
     "output_type": "execute_result"
    }
   ],
   "source": [
    "(ação_normalizada['RS_PETZ3'].mean() * 246)*100"
   ]
  },
  {
   "cell_type": "code",
   "execution_count": 52,
   "metadata": {},
   "outputs": [
    {
     "data": {
      "text/plain": [
       "-58.08820943481949"
      ]
     },
     "execution_count": 52,
     "metadata": {},
     "output_type": "execute_result"
    }
   ],
   "source": [
    "(ação_normalizada['RS_AMERICANAS'].mean() * 246)*100"
   ]
  },
  {
   "cell_type": "code",
   "execution_count": 53,
   "metadata": {},
   "outputs": [
    {
     "data": {
      "text/plain": [
       "-14.41480961849511"
      ]
     },
     "execution_count": 53,
     "metadata": {},
     "output_type": "execute_result"
    }
   ],
   "source": [
    "(ação_normalizada['RS_AMAZON'].mean() * 246)*100"
   ]
  },
  {
   "cell_type": "code",
   "execution_count": 54,
   "metadata": {},
   "outputs": [
    {
     "data": {
      "text/plain": [
       "-76.48819750839047"
      ]
     },
     "execution_count": 54,
     "metadata": {},
     "output_type": "execute_result"
    }
   ],
   "source": [
    "(ação_normalizada['RS_APPLE'].mean() * 246)*100"
   ]
  },
  {
   "cell_type": "code",
   "execution_count": 55,
   "metadata": {},
   "outputs": [],
   "source": [
    "dataset = ação_normalizada"
   ]
  },
  {
   "cell_type": "code",
   "execution_count": 56,
   "metadata": {},
   "outputs": [
    {
     "data": {
      "text/html": [
       "<div>\n",
       "<style scoped>\n",
       "    .dataframe tbody tr th:only-of-type {\n",
       "        vertical-align: middle;\n",
       "    }\n",
       "\n",
       "    .dataframe tbody tr th {\n",
       "        vertical-align: top;\n",
       "    }\n",
       "\n",
       "    .dataframe thead th {\n",
       "        text-align: right;\n",
       "    }\n",
       "</style>\n",
       "<table border=\"1\" class=\"dataframe\">\n",
       "  <thead>\n",
       "    <tr style=\"text-align: right;\">\n",
       "      <th></th>\n",
       "      <th>Date</th>\n",
       "      <th>PETZ3</th>\n",
       "      <th>AMERICANAS</th>\n",
       "      <th>VIA VAREJO</th>\n",
       "      <th>AMAZON</th>\n",
       "      <th>APPLE</th>\n",
       "      <th>RS_PETZ3</th>\n",
       "      <th>RS_AMERICANAS</th>\n",
       "      <th>RS_VIA</th>\n",
       "      <th>RS_AMAZON</th>\n",
       "      <th>RS_APPLE</th>\n",
       "    </tr>\n",
       "  </thead>\n",
       "  <tbody>\n",
       "    <tr>\n",
       "      <th>0</th>\n",
       "      <td>2020-11-26</td>\n",
       "      <td>1.000000</td>\n",
       "      <td>1.000000</td>\n",
       "      <td>1.000000</td>\n",
       "      <td>1.000000</td>\n",
       "      <td>1.000000</td>\n",
       "      <td>NaN</td>\n",
       "      <td>NaN</td>\n",
       "      <td>NaN</td>\n",
       "      <td>NaN</td>\n",
       "      <td>NaN</td>\n",
       "    </tr>\n",
       "    <tr>\n",
       "      <th>1</th>\n",
       "      <td>2020-11-27</td>\n",
       "      <td>1.000321</td>\n",
       "      <td>1.011353</td>\n",
       "      <td>1.013048</td>\n",
       "      <td>1.013158</td>\n",
       "      <td>0.962520</td>\n",
       "      <td>0.000321</td>\n",
       "      <td>0.011353</td>\n",
       "      <td>0.013048</td>\n",
       "      <td>0.013158</td>\n",
       "      <td>-0.037480</td>\n",
       "    </tr>\n",
       "    <tr>\n",
       "      <th>2</th>\n",
       "      <td>2020-11-30</td>\n",
       "      <td>1.032600</td>\n",
       "      <td>0.929373</td>\n",
       "      <td>1.006524</td>\n",
       "      <td>1.000000</td>\n",
       "      <td>0.923998</td>\n",
       "      <td>0.032268</td>\n",
       "      <td>-0.081060</td>\n",
       "      <td>-0.006440</td>\n",
       "      <td>-0.012987</td>\n",
       "      <td>-0.040022</td>\n",
       "    </tr>\n",
       "    <tr>\n",
       "      <th>3</th>\n",
       "      <td>2020-12-01</td>\n",
       "      <td>1.028103</td>\n",
       "      <td>0.920924</td>\n",
       "      <td>1.006524</td>\n",
       "      <td>0.956316</td>\n",
       "      <td>0.892764</td>\n",
       "      <td>-0.004355</td>\n",
       "      <td>-0.009091</td>\n",
       "      <td>0.000000</td>\n",
       "      <td>-0.043684</td>\n",
       "      <td>-0.033803</td>\n",
       "    </tr>\n",
       "    <tr>\n",
       "      <th>4</th>\n",
       "      <td>2020-12-02</td>\n",
       "      <td>1.036294</td>\n",
       "      <td>0.904290</td>\n",
       "      <td>0.994781</td>\n",
       "      <td>0.983684</td>\n",
       "      <td>0.891203</td>\n",
       "      <td>0.007966</td>\n",
       "      <td>-0.018062</td>\n",
       "      <td>-0.011667</td>\n",
       "      <td>0.028619</td>\n",
       "      <td>-0.001749</td>\n",
       "    </tr>\n",
       "    <tr>\n",
       "      <th>...</th>\n",
       "      <td>...</td>\n",
       "      <td>...</td>\n",
       "      <td>...</td>\n",
       "      <td>...</td>\n",
       "      <td>...</td>\n",
       "      <td>...</td>\n",
       "      <td>...</td>\n",
       "      <td>...</td>\n",
       "      <td>...</td>\n",
       "      <td>...</td>\n",
       "      <td>...</td>\n",
       "    </tr>\n",
       "    <tr>\n",
       "      <th>449</th>\n",
       "      <td>2022-09-19</td>\n",
       "      <td>1.279268</td>\n",
       "      <td>0.229967</td>\n",
       "      <td>0.762194</td>\n",
       "      <td>0.550000</td>\n",
       "      <td>0.167621</td>\n",
       "      <td>0.005554</td>\n",
       "      <td>0.055118</td>\n",
       "      <td>-0.007728</td>\n",
       "      <td>0.034653</td>\n",
       "      <td>0.028754</td>\n",
       "    </tr>\n",
       "    <tr>\n",
       "      <th>450</th>\n",
       "      <td>2022-09-20</td>\n",
       "      <td>1.297736</td>\n",
       "      <td>0.229571</td>\n",
       "      <td>0.749847</td>\n",
       "      <td>0.545263</td>\n",
       "      <td>0.166059</td>\n",
       "      <td>0.014436</td>\n",
       "      <td>-0.001722</td>\n",
       "      <td>-0.016199</td>\n",
       "      <td>-0.008612</td>\n",
       "      <td>-0.009317</td>\n",
       "    </tr>\n",
       "    <tr>\n",
       "      <th>451</th>\n",
       "      <td>2022-09-21</td>\n",
       "      <td>1.276698</td>\n",
       "      <td>0.231155</td>\n",
       "      <td>0.730852</td>\n",
       "      <td>0.555263</td>\n",
       "      <td>0.174388</td>\n",
       "      <td>-0.016211</td>\n",
       "      <td>0.006901</td>\n",
       "      <td>-0.025332</td>\n",
       "      <td>0.018340</td>\n",
       "      <td>0.050157</td>\n",
       "    </tr>\n",
       "    <tr>\n",
       "      <th>452</th>\n",
       "      <td>2022-09-22</td>\n",
       "      <td>1.256624</td>\n",
       "      <td>0.227591</td>\n",
       "      <td>0.716368</td>\n",
       "      <td>0.562105</td>\n",
       "      <td>0.174909</td>\n",
       "      <td>-0.015723</td>\n",
       "      <td>-0.015420</td>\n",
       "      <td>-0.019818</td>\n",
       "      <td>0.012322</td>\n",
       "      <td>0.002985</td>\n",
       "    </tr>\n",
       "    <tr>\n",
       "      <th>453</th>\n",
       "      <td>2022-09-23</td>\n",
       "      <td>1.264172</td>\n",
       "      <td>0.231419</td>\n",
       "      <td>0.705920</td>\n",
       "      <td>0.587368</td>\n",
       "      <td>0.174388</td>\n",
       "      <td>0.006006</td>\n",
       "      <td>0.016821</td>\n",
       "      <td>-0.014584</td>\n",
       "      <td>0.044944</td>\n",
       "      <td>-0.002976</td>\n",
       "    </tr>\n",
       "  </tbody>\n",
       "</table>\n",
       "<p>454 rows × 11 columns</p>\n",
       "</div>"
      ],
      "text/plain": [
       "           Date     PETZ3  AMERICANAS  VIA VAREJO    AMAZON     APPLE  \\\n",
       "0    2020-11-26  1.000000    1.000000    1.000000  1.000000  1.000000   \n",
       "1    2020-11-27  1.000321    1.011353    1.013048  1.013158  0.962520   \n",
       "2    2020-11-30  1.032600    0.929373    1.006524  1.000000  0.923998   \n",
       "3    2020-12-01  1.028103    0.920924    1.006524  0.956316  0.892764   \n",
       "4    2020-12-02  1.036294    0.904290    0.994781  0.983684  0.891203   \n",
       "..          ...       ...         ...         ...       ...       ...   \n",
       "449  2022-09-19  1.279268    0.229967    0.762194  0.550000  0.167621   \n",
       "450  2022-09-20  1.297736    0.229571    0.749847  0.545263  0.166059   \n",
       "451  2022-09-21  1.276698    0.231155    0.730852  0.555263  0.174388   \n",
       "452  2022-09-22  1.256624    0.227591    0.716368  0.562105  0.174909   \n",
       "453  2022-09-23  1.264172    0.231419    0.705920  0.587368  0.174388   \n",
       "\n",
       "     RS_PETZ3  RS_AMERICANAS    RS_VIA  RS_AMAZON  RS_APPLE  \n",
       "0         NaN            NaN       NaN        NaN       NaN  \n",
       "1    0.000321       0.011353  0.013048   0.013158 -0.037480  \n",
       "2    0.032268      -0.081060 -0.006440  -0.012987 -0.040022  \n",
       "3   -0.004355      -0.009091  0.000000  -0.043684 -0.033803  \n",
       "4    0.007966      -0.018062 -0.011667   0.028619 -0.001749  \n",
       "..        ...            ...       ...        ...       ...  \n",
       "449  0.005554       0.055118 -0.007728   0.034653  0.028754  \n",
       "450  0.014436      -0.001722 -0.016199  -0.008612 -0.009317  \n",
       "451 -0.016211       0.006901 -0.025332   0.018340  0.050157  \n",
       "452 -0.015723      -0.015420 -0.019818   0.012322  0.002985  \n",
       "453  0.006006       0.016821 -0.014584   0.044944 -0.002976  \n",
       "\n",
       "[454 rows x 11 columns]"
      ]
     },
     "execution_count": 56,
     "metadata": {},
     "output_type": "execute_result"
    }
   ],
   "source": [
    "dataset"
   ]
  },
  {
   "cell_type": "code",
   "execution_count": 57,
   "metadata": {},
   "outputs": [
    {
     "data": {
      "text/plain": [
       "(1.0, 1.2641721638350896)"
      ]
     },
     "execution_count": 57,
     "metadata": {},
     "output_type": "execute_result"
    }
   ],
   "source": [
    "dataset['PETZ3'][0], dataset['PETZ3'] [len(dataset)- 1]"
   ]
  },
  {
   "cell_type": "code",
   "execution_count": 58,
   "metadata": {},
   "outputs": [
    {
     "data": {
      "text/plain": [
       "23.441749201526523"
      ]
     },
     "execution_count": 58,
     "metadata": {},
     "output_type": "execute_result"
    }
   ],
   "source": [
    "np.log(dataset['PETZ3'][len(dataset) -1] /dataset['PETZ3'][0]) *100"
   ]
  },
  {
   "cell_type": "code",
   "execution_count": 59,
   "metadata": {},
   "outputs": [
    {
     "data": {
      "text/plain": [
       "-146.3524706286598"
      ]
     },
     "execution_count": 59,
     "metadata": {},
     "output_type": "execute_result"
    }
   ],
   "source": [
    "np.log(dataset['AMERICANAS'][len(dataset) -1] /dataset['AMERICANAS'][0]) *100"
   ]
  },
  {
   "cell_type": "code",
   "execution_count": 60,
   "metadata": {},
   "outputs": [
    {
     "data": {
      "text/plain": [
       "-34.82532775688906"
      ]
     },
     "execution_count": 60,
     "metadata": {},
     "output_type": "execute_result"
    }
   ],
   "source": [
    "np.log(dataset['VIA VAREJO'][len(dataset) -1] /dataset['VIA VAREJO'][0]) *100"
   ]
  },
  {
   "cell_type": "code",
   "execution_count": 61,
   "metadata": {},
   "outputs": [
    {
     "data": {
      "text/plain": [
       "-53.21030358860257"
      ]
     },
     "execution_count": 61,
     "metadata": {},
     "output_type": "execute_result"
    }
   ],
   "source": [
    "np.log(dataset['AMAZON'][len(dataset) -1] /dataset['AMAZON'][0]) *100"
   ]
  },
  {
   "cell_type": "code",
   "execution_count": 62,
   "metadata": {},
   "outputs": [
    {
     "data": {
      "text/plain": [
       "-174.6470611752486"
      ]
     },
     "execution_count": 62,
     "metadata": {},
     "output_type": "execute_result"
    }
   ],
   "source": [
    "np.log(dataset['APPLE'][len(dataset) -1] /dataset['APPLE'][0]) *100"
   ]
  },
  {
   "cell_type": "code",
   "execution_count": 63,
   "metadata": {},
   "outputs": [
    {
     "data": {
      "text/html": [
       "<div>\n",
       "<style scoped>\n",
       "    .dataframe tbody tr th:only-of-type {\n",
       "        vertical-align: middle;\n",
       "    }\n",
       "\n",
       "    .dataframe tbody tr th {\n",
       "        vertical-align: top;\n",
       "    }\n",
       "\n",
       "    .dataframe thead th {\n",
       "        text-align: right;\n",
       "    }\n",
       "</style>\n",
       "<table border=\"1\" class=\"dataframe\">\n",
       "  <thead>\n",
       "    <tr style=\"text-align: right;\">\n",
       "      <th></th>\n",
       "      <th>Date</th>\n",
       "      <th>PETZ3</th>\n",
       "      <th>AMERICANAS</th>\n",
       "      <th>VIA VAREJO</th>\n",
       "      <th>AMAZON</th>\n",
       "      <th>APPLE</th>\n",
       "      <th>RS_PETZ3</th>\n",
       "      <th>RS_AMERICANAS</th>\n",
       "      <th>RS_VIA</th>\n",
       "      <th>RS_AMAZON</th>\n",
       "      <th>RS_APPLE</th>\n",
       "    </tr>\n",
       "  </thead>\n",
       "  <tbody>\n",
       "    <tr>\n",
       "      <th>0</th>\n",
       "      <td>2020-11-26</td>\n",
       "      <td>1.000000</td>\n",
       "      <td>1.000000</td>\n",
       "      <td>1.000000</td>\n",
       "      <td>1.000000</td>\n",
       "      <td>1.000000</td>\n",
       "      <td>NaN</td>\n",
       "      <td>NaN</td>\n",
       "      <td>NaN</td>\n",
       "      <td>NaN</td>\n",
       "      <td>NaN</td>\n",
       "    </tr>\n",
       "    <tr>\n",
       "      <th>1</th>\n",
       "      <td>2020-11-27</td>\n",
       "      <td>1.000321</td>\n",
       "      <td>1.011353</td>\n",
       "      <td>1.013048</td>\n",
       "      <td>1.013158</td>\n",
       "      <td>0.962520</td>\n",
       "      <td>0.000321</td>\n",
       "      <td>0.011353</td>\n",
       "      <td>0.013048</td>\n",
       "      <td>0.013158</td>\n",
       "      <td>-0.037480</td>\n",
       "    </tr>\n",
       "    <tr>\n",
       "      <th>2</th>\n",
       "      <td>2020-11-30</td>\n",
       "      <td>1.032600</td>\n",
       "      <td>0.929373</td>\n",
       "      <td>1.006524</td>\n",
       "      <td>1.000000</td>\n",
       "      <td>0.923998</td>\n",
       "      <td>0.032268</td>\n",
       "      <td>-0.081060</td>\n",
       "      <td>-0.006440</td>\n",
       "      <td>-0.012987</td>\n",
       "      <td>-0.040022</td>\n",
       "    </tr>\n",
       "    <tr>\n",
       "      <th>3</th>\n",
       "      <td>2020-12-01</td>\n",
       "      <td>1.028103</td>\n",
       "      <td>0.920924</td>\n",
       "      <td>1.006524</td>\n",
       "      <td>0.956316</td>\n",
       "      <td>0.892764</td>\n",
       "      <td>-0.004355</td>\n",
       "      <td>-0.009091</td>\n",
       "      <td>0.000000</td>\n",
       "      <td>-0.043684</td>\n",
       "      <td>-0.033803</td>\n",
       "    </tr>\n",
       "    <tr>\n",
       "      <th>4</th>\n",
       "      <td>2020-12-02</td>\n",
       "      <td>1.036294</td>\n",
       "      <td>0.904290</td>\n",
       "      <td>0.994781</td>\n",
       "      <td>0.983684</td>\n",
       "      <td>0.891203</td>\n",
       "      <td>0.007966</td>\n",
       "      <td>-0.018062</td>\n",
       "      <td>-0.011667</td>\n",
       "      <td>0.028619</td>\n",
       "      <td>-0.001749</td>\n",
       "    </tr>\n",
       "    <tr>\n",
       "      <th>...</th>\n",
       "      <td>...</td>\n",
       "      <td>...</td>\n",
       "      <td>...</td>\n",
       "      <td>...</td>\n",
       "      <td>...</td>\n",
       "      <td>...</td>\n",
       "      <td>...</td>\n",
       "      <td>...</td>\n",
       "      <td>...</td>\n",
       "      <td>...</td>\n",
       "      <td>...</td>\n",
       "    </tr>\n",
       "    <tr>\n",
       "      <th>449</th>\n",
       "      <td>2022-09-19</td>\n",
       "      <td>1.279268</td>\n",
       "      <td>0.229967</td>\n",
       "      <td>0.762194</td>\n",
       "      <td>0.550000</td>\n",
       "      <td>0.167621</td>\n",
       "      <td>0.005554</td>\n",
       "      <td>0.055118</td>\n",
       "      <td>-0.007728</td>\n",
       "      <td>0.034653</td>\n",
       "      <td>0.028754</td>\n",
       "    </tr>\n",
       "    <tr>\n",
       "      <th>450</th>\n",
       "      <td>2022-09-20</td>\n",
       "      <td>1.297736</td>\n",
       "      <td>0.229571</td>\n",
       "      <td>0.749847</td>\n",
       "      <td>0.545263</td>\n",
       "      <td>0.166059</td>\n",
       "      <td>0.014436</td>\n",
       "      <td>-0.001722</td>\n",
       "      <td>-0.016199</td>\n",
       "      <td>-0.008612</td>\n",
       "      <td>-0.009317</td>\n",
       "    </tr>\n",
       "    <tr>\n",
       "      <th>451</th>\n",
       "      <td>2022-09-21</td>\n",
       "      <td>1.276698</td>\n",
       "      <td>0.231155</td>\n",
       "      <td>0.730852</td>\n",
       "      <td>0.555263</td>\n",
       "      <td>0.174388</td>\n",
       "      <td>-0.016211</td>\n",
       "      <td>0.006901</td>\n",
       "      <td>-0.025332</td>\n",
       "      <td>0.018340</td>\n",
       "      <td>0.050157</td>\n",
       "    </tr>\n",
       "    <tr>\n",
       "      <th>452</th>\n",
       "      <td>2022-09-22</td>\n",
       "      <td>1.256624</td>\n",
       "      <td>0.227591</td>\n",
       "      <td>0.716368</td>\n",
       "      <td>0.562105</td>\n",
       "      <td>0.174909</td>\n",
       "      <td>-0.015723</td>\n",
       "      <td>-0.015420</td>\n",
       "      <td>-0.019818</td>\n",
       "      <td>0.012322</td>\n",
       "      <td>0.002985</td>\n",
       "    </tr>\n",
       "    <tr>\n",
       "      <th>453</th>\n",
       "      <td>2022-09-23</td>\n",
       "      <td>1.264172</td>\n",
       "      <td>0.231419</td>\n",
       "      <td>0.705920</td>\n",
       "      <td>0.587368</td>\n",
       "      <td>0.174388</td>\n",
       "      <td>0.006006</td>\n",
       "      <td>0.016821</td>\n",
       "      <td>-0.014584</td>\n",
       "      <td>0.044944</td>\n",
       "      <td>-0.002976</td>\n",
       "    </tr>\n",
       "  </tbody>\n",
       "</table>\n",
       "<p>454 rows × 11 columns</p>\n",
       "</div>"
      ],
      "text/plain": [
       "           Date     PETZ3  AMERICANAS  VIA VAREJO    AMAZON     APPLE  \\\n",
       "0    2020-11-26  1.000000    1.000000    1.000000  1.000000  1.000000   \n",
       "1    2020-11-27  1.000321    1.011353    1.013048  1.013158  0.962520   \n",
       "2    2020-11-30  1.032600    0.929373    1.006524  1.000000  0.923998   \n",
       "3    2020-12-01  1.028103    0.920924    1.006524  0.956316  0.892764   \n",
       "4    2020-12-02  1.036294    0.904290    0.994781  0.983684  0.891203   \n",
       "..          ...       ...         ...         ...       ...       ...   \n",
       "449  2022-09-19  1.279268    0.229967    0.762194  0.550000  0.167621   \n",
       "450  2022-09-20  1.297736    0.229571    0.749847  0.545263  0.166059   \n",
       "451  2022-09-21  1.276698    0.231155    0.730852  0.555263  0.174388   \n",
       "452  2022-09-22  1.256624    0.227591    0.716368  0.562105  0.174909   \n",
       "453  2022-09-23  1.264172    0.231419    0.705920  0.587368  0.174388   \n",
       "\n",
       "     RS_PETZ3  RS_AMERICANAS    RS_VIA  RS_AMAZON  RS_APPLE  \n",
       "0         NaN            NaN       NaN        NaN       NaN  \n",
       "1    0.000321       0.011353  0.013048   0.013158 -0.037480  \n",
       "2    0.032268      -0.081060 -0.006440  -0.012987 -0.040022  \n",
       "3   -0.004355      -0.009091  0.000000  -0.043684 -0.033803  \n",
       "4    0.007966      -0.018062 -0.011667   0.028619 -0.001749  \n",
       "..        ...            ...       ...        ...       ...  \n",
       "449  0.005554       0.055118 -0.007728   0.034653  0.028754  \n",
       "450  0.014436      -0.001722 -0.016199  -0.008612 -0.009317  \n",
       "451 -0.016211       0.006901 -0.025332   0.018340  0.050157  \n",
       "452 -0.015723      -0.015420 -0.019818   0.012322  0.002985  \n",
       "453  0.006006       0.016821 -0.014584   0.044944 -0.002976  \n",
       "\n",
       "[454 rows x 11 columns]"
      ]
     },
     "execution_count": 63,
     "metadata": {},
     "output_type": "execute_result"
    }
   ],
   "source": [
    "dataset"
   ]
  },
  {
   "cell_type": "code",
   "execution_count": 64,
   "metadata": {},
   "outputs": [],
   "source": [
    "#Delete the Date column"
   ]
  },
  {
   "cell_type": "code",
   "execution_count": 65,
   "metadata": {},
   "outputs": [],
   "source": [
    "dataset.drop(labels=['Date'], axis=1, inplace=True)"
   ]
  },
  {
   "cell_type": "code",
   "execution_count": 66,
   "metadata": {},
   "outputs": [
    {
     "data": {
      "text/html": [
       "<div>\n",
       "<style scoped>\n",
       "    .dataframe tbody tr th:only-of-type {\n",
       "        vertical-align: middle;\n",
       "    }\n",
       "\n",
       "    .dataframe tbody tr th {\n",
       "        vertical-align: top;\n",
       "    }\n",
       "\n",
       "    .dataframe thead th {\n",
       "        text-align: right;\n",
       "    }\n",
       "</style>\n",
       "<table border=\"1\" class=\"dataframe\">\n",
       "  <thead>\n",
       "    <tr style=\"text-align: right;\">\n",
       "      <th></th>\n",
       "      <th>PETZ3</th>\n",
       "      <th>AMERICANAS</th>\n",
       "      <th>VIA VAREJO</th>\n",
       "      <th>AMAZON</th>\n",
       "      <th>APPLE</th>\n",
       "      <th>RS_PETZ3</th>\n",
       "      <th>RS_AMERICANAS</th>\n",
       "      <th>RS_VIA</th>\n",
       "      <th>RS_AMAZON</th>\n",
       "      <th>RS_APPLE</th>\n",
       "    </tr>\n",
       "  </thead>\n",
       "  <tbody>\n",
       "    <tr>\n",
       "      <th>0</th>\n",
       "      <td>1.000000</td>\n",
       "      <td>1.000000</td>\n",
       "      <td>1.000000</td>\n",
       "      <td>1.000000</td>\n",
       "      <td>1.000000</td>\n",
       "      <td>NaN</td>\n",
       "      <td>NaN</td>\n",
       "      <td>NaN</td>\n",
       "      <td>NaN</td>\n",
       "      <td>NaN</td>\n",
       "    </tr>\n",
       "    <tr>\n",
       "      <th>1</th>\n",
       "      <td>1.000321</td>\n",
       "      <td>1.011353</td>\n",
       "      <td>1.013048</td>\n",
       "      <td>1.013158</td>\n",
       "      <td>0.962520</td>\n",
       "      <td>0.000321</td>\n",
       "      <td>0.011353</td>\n",
       "      <td>0.013048</td>\n",
       "      <td>0.013158</td>\n",
       "      <td>-0.037480</td>\n",
       "    </tr>\n",
       "    <tr>\n",
       "      <th>2</th>\n",
       "      <td>1.032600</td>\n",
       "      <td>0.929373</td>\n",
       "      <td>1.006524</td>\n",
       "      <td>1.000000</td>\n",
       "      <td>0.923998</td>\n",
       "      <td>0.032268</td>\n",
       "      <td>-0.081060</td>\n",
       "      <td>-0.006440</td>\n",
       "      <td>-0.012987</td>\n",
       "      <td>-0.040022</td>\n",
       "    </tr>\n",
       "    <tr>\n",
       "      <th>3</th>\n",
       "      <td>1.028103</td>\n",
       "      <td>0.920924</td>\n",
       "      <td>1.006524</td>\n",
       "      <td>0.956316</td>\n",
       "      <td>0.892764</td>\n",
       "      <td>-0.004355</td>\n",
       "      <td>-0.009091</td>\n",
       "      <td>0.000000</td>\n",
       "      <td>-0.043684</td>\n",
       "      <td>-0.033803</td>\n",
       "    </tr>\n",
       "    <tr>\n",
       "      <th>4</th>\n",
       "      <td>1.036294</td>\n",
       "      <td>0.904290</td>\n",
       "      <td>0.994781</td>\n",
       "      <td>0.983684</td>\n",
       "      <td>0.891203</td>\n",
       "      <td>0.007966</td>\n",
       "      <td>-0.018062</td>\n",
       "      <td>-0.011667</td>\n",
       "      <td>0.028619</td>\n",
       "      <td>-0.001749</td>\n",
       "    </tr>\n",
       "    <tr>\n",
       "      <th>...</th>\n",
       "      <td>...</td>\n",
       "      <td>...</td>\n",
       "      <td>...</td>\n",
       "      <td>...</td>\n",
       "      <td>...</td>\n",
       "      <td>...</td>\n",
       "      <td>...</td>\n",
       "      <td>...</td>\n",
       "      <td>...</td>\n",
       "      <td>...</td>\n",
       "    </tr>\n",
       "    <tr>\n",
       "      <th>449</th>\n",
       "      <td>1.279268</td>\n",
       "      <td>0.229967</td>\n",
       "      <td>0.762194</td>\n",
       "      <td>0.550000</td>\n",
       "      <td>0.167621</td>\n",
       "      <td>0.005554</td>\n",
       "      <td>0.055118</td>\n",
       "      <td>-0.007728</td>\n",
       "      <td>0.034653</td>\n",
       "      <td>0.028754</td>\n",
       "    </tr>\n",
       "    <tr>\n",
       "      <th>450</th>\n",
       "      <td>1.297736</td>\n",
       "      <td>0.229571</td>\n",
       "      <td>0.749847</td>\n",
       "      <td>0.545263</td>\n",
       "      <td>0.166059</td>\n",
       "      <td>0.014436</td>\n",
       "      <td>-0.001722</td>\n",
       "      <td>-0.016199</td>\n",
       "      <td>-0.008612</td>\n",
       "      <td>-0.009317</td>\n",
       "    </tr>\n",
       "    <tr>\n",
       "      <th>451</th>\n",
       "      <td>1.276698</td>\n",
       "      <td>0.231155</td>\n",
       "      <td>0.730852</td>\n",
       "      <td>0.555263</td>\n",
       "      <td>0.174388</td>\n",
       "      <td>-0.016211</td>\n",
       "      <td>0.006901</td>\n",
       "      <td>-0.025332</td>\n",
       "      <td>0.018340</td>\n",
       "      <td>0.050157</td>\n",
       "    </tr>\n",
       "    <tr>\n",
       "      <th>452</th>\n",
       "      <td>1.256624</td>\n",
       "      <td>0.227591</td>\n",
       "      <td>0.716368</td>\n",
       "      <td>0.562105</td>\n",
       "      <td>0.174909</td>\n",
       "      <td>-0.015723</td>\n",
       "      <td>-0.015420</td>\n",
       "      <td>-0.019818</td>\n",
       "      <td>0.012322</td>\n",
       "      <td>0.002985</td>\n",
       "    </tr>\n",
       "    <tr>\n",
       "      <th>453</th>\n",
       "      <td>1.264172</td>\n",
       "      <td>0.231419</td>\n",
       "      <td>0.705920</td>\n",
       "      <td>0.587368</td>\n",
       "      <td>0.174388</td>\n",
       "      <td>0.006006</td>\n",
       "      <td>0.016821</td>\n",
       "      <td>-0.014584</td>\n",
       "      <td>0.044944</td>\n",
       "      <td>-0.002976</td>\n",
       "    </tr>\n",
       "  </tbody>\n",
       "</table>\n",
       "<p>454 rows × 10 columns</p>\n",
       "</div>"
      ],
      "text/plain": [
       "        PETZ3  AMERICANAS  VIA VAREJO    AMAZON     APPLE  RS_PETZ3  \\\n",
       "0    1.000000    1.000000    1.000000  1.000000  1.000000       NaN   \n",
       "1    1.000321    1.011353    1.013048  1.013158  0.962520  0.000321   \n",
       "2    1.032600    0.929373    1.006524  1.000000  0.923998  0.032268   \n",
       "3    1.028103    0.920924    1.006524  0.956316  0.892764 -0.004355   \n",
       "4    1.036294    0.904290    0.994781  0.983684  0.891203  0.007966   \n",
       "..        ...         ...         ...       ...       ...       ...   \n",
       "449  1.279268    0.229967    0.762194  0.550000  0.167621  0.005554   \n",
       "450  1.297736    0.229571    0.749847  0.545263  0.166059  0.014436   \n",
       "451  1.276698    0.231155    0.730852  0.555263  0.174388 -0.016211   \n",
       "452  1.256624    0.227591    0.716368  0.562105  0.174909 -0.015723   \n",
       "453  1.264172    0.231419    0.705920  0.587368  0.174388  0.006006   \n",
       "\n",
       "     RS_AMERICANAS    RS_VIA  RS_AMAZON  RS_APPLE  \n",
       "0              NaN       NaN        NaN       NaN  \n",
       "1         0.011353  0.013048   0.013158 -0.037480  \n",
       "2        -0.081060 -0.006440  -0.012987 -0.040022  \n",
       "3        -0.009091  0.000000  -0.043684 -0.033803  \n",
       "4        -0.018062 -0.011667   0.028619 -0.001749  \n",
       "..             ...       ...        ...       ...  \n",
       "449       0.055118 -0.007728   0.034653  0.028754  \n",
       "450      -0.001722 -0.016199  -0.008612 -0.009317  \n",
       "451       0.006901 -0.025332   0.018340  0.050157  \n",
       "452      -0.015420 -0.019818   0.012322  0.002985  \n",
       "453       0.016821 -0.014584   0.044944 -0.002976  \n",
       "\n",
       "[454 rows x 10 columns]"
      ]
     },
     "execution_count": 66,
     "metadata": {},
     "output_type": "execute_result"
    }
   ],
   "source": [
    "dataset"
   ]
  },
  {
   "cell_type": "code",
   "execution_count": 67,
   "metadata": {},
   "outputs": [],
   "source": [
    "carteiras = np.array([0.2, 0.2, 0.2, 0.2,0.2])"
   ]
  },
  {
   "cell_type": "code",
   "execution_count": 68,
   "metadata": {},
   "outputs": [
    {
     "data": {
      "text/plain": [
       "1.0"
      ]
     },
     "execution_count": 68,
     "metadata": {},
     "output_type": "execute_result"
    }
   ],
   "source": [
    "carteiras.sum()"
   ]
  }
 ],
 "metadata": {
  "kernelspec": {
   "display_name": "Python 3.7.6rc1 64-bit",
   "language": "python",
   "name": "python3"
  },
  "language_info": {
   "codemirror_mode": {
    "name": "ipython",
    "version": 3
   },
   "file_extension": ".py",
   "mimetype": "text/x-python",
   "name": "python",
   "nbconvert_exporter": "python",
   "pygments_lexer": "ipython3",
   "version": "3.7.6rc1"
  },
  "orig_nbformat": 4,
  "vscode": {
   "interpreter": {
    "hash": "6a293628962564e92aa675dc6d7de95cda50690237850f40f0eafc6145deb04a"
   }
  }
 },
 "nbformat": 4,
 "nbformat_minor": 2
}
